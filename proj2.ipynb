{
 "cells": [
  {
   "cell_type": "markdown",
   "metadata": {},
   "source": [
    "Before you turn this assignment in, make sure everything runs as expected. First, **restart the kernel** (in the menubar, select Kernel$\\rightarrow$Restart) and then **run all cells** (in the menubar, select Cell$\\rightarrow$Run All). Lastly, hit **Validate**.\n",
    "\n",
    "If you worked locally, and then uploaded your work to the hub, make sure to follow these steps:\n",
    "- open your uploaded notebook **on the hub**\n",
    "- hit the validate button right above this cell, from inside the notebook\n",
    "\n",
    "These  steps should solve any issue related to submitting the notebook on the hub.\n",
    "\n",
    "Make sure you fill in any place that says `YOUR CODE HERE` or \"YOUR ANSWER HERE\", as well as your name and collaborators below:"
   ]
  },
  {
   "cell_type": "code",
   "execution_count": 50,
   "metadata": {},
   "outputs": [],
   "source": [
    "NAME = \"Gilbert Antonius\"\n",
    "COLLABORATORS = \"\""
   ]
  },
  {
   "cell_type": "markdown",
   "metadata": {},
   "source": [
    "---"
   ]
  },
  {
   "cell_type": "markdown",
   "metadata": {
    "deletable": false,
    "editable": false,
    "nbgrader": {
     "cell_type": "markdown",
     "checksum": "e9b95f0e3f952f2a69021b9e6257b0e0",
     "grade": false,
     "grade_id": "proj2",
     "locked": true,
     "schema_version": 2,
     "solution": false
    }
   },
   "source": [
    "# Project 2: Spam // Ham Prediction  \n",
    "\n",
    "## Due Date: 11:59pm Sunday, April 29\n",
    "\n",
    "In this project, you will use what you've learned in class to create a classifier that can distinguish spam (junk or commercial or bulk) emails from ham (non-spam) emails. In addition to providing some skeleton code to fill in, we will evaluate your work based on your model's accuracy and your written responses in this notebook.\n",
    "\n",
    "## Score breakdown\n",
    "\n",
    "Question | Points\n",
    "--- | ---\n",
    "Question 1 | 3\n",
    "Question 2 | 2\n",
    "Question 3a | 2\n",
    "Question 3b | 2\n",
    "Question 4 | 2\n",
    "Question 5 | 2\n",
    "Question 6 | 9\n",
    "Question 7 | 6\n",
    "Question 8 | 6\n",
    "Question 9 | 3\n",
    "Question 10 | 5\n",
    "Total | 42"
   ]
  },
  {
   "cell_type": "markdown",
   "metadata": {
    "deletable": false,
    "editable": false,
    "nbgrader": {
     "cell_type": "markdown",
     "checksum": "13d4b9efb57a66ecdde4f5c2e2bcc526",
     "grade": false,
     "grade_id": "p1",
     "locked": true,
     "schema_version": 2,
     "solution": false
    }
   },
   "source": [
    "# Part I - Initial Analysis"
   ]
  },
  {
   "cell_type": "code",
   "execution_count": 74,
   "metadata": {
    "deletable": false,
    "editable": false,
    "nbgrader": {
     "cell_type": "code",
     "checksum": "86334642abec944a9d6c8299e6ba5896",
     "grade": false,
     "grade_id": "imports",
     "locked": true,
     "schema_version": 2,
     "solution": false
    }
   },
   "outputs": [],
   "source": [
    "import numpy as np\n",
    "import pandas as pd\n",
    "\n",
    "import matplotlib.pyplot as plt\n",
    "%matplotlib inline\n",
    "\n",
    "import seaborn as sns\n",
    "sns.set(style = \"whitegrid\", \n",
    "        color_codes = True,\n",
    "        font_scale = 1.5)"
   ]
  },
  {
   "cell_type": "code",
   "execution_count": 75,
   "metadata": {},
   "outputs": [],
   "source": [
    "#plt.rcParams['figure.figsize'] = (16, 16)\n",
    "plt.rcParams['figure.dpi'] = 150\n",
    "sns.set()"
   ]
  },
  {
   "cell_type": "markdown",
   "metadata": {
    "deletable": false,
    "editable": false,
    "nbgrader": {
     "cell_type": "markdown",
     "checksum": "5d3fe1dd9f7bc02dfe273dc477925ec5",
     "grade": false,
     "grade_id": "loading",
     "locked": true,
     "schema_version": 2,
     "solution": false
    }
   },
   "source": [
    "### Loading in the Data\n",
    "\n",
    "The dataset consists of email messages and their labels (0 for ham, 1 for spam). Your labelled dataset contains 8348 labelled examples, and the evaluation set contains 1000 unlabelled examples.\n",
    "\n",
    "Run the following cells to load in the data into DataFrames.\n",
    "\n",
    "The `train` DataFrame contains labelled data that you will use to train your model. It contains three columns:\n",
    "\n",
    "1. `id`: An identifier for the training example.\n",
    "1. `subject`: The subject of the email\n",
    "1. `email`: The text of the email.\n",
    "1. `spam`: 1 if the email was spam, 0 if the email was ham (not spam).\n",
    "\n",
    "The `evaluation` DataFrame contains another set of 1000 unlabelled examples. You will predict labels for these examples and submit your predictions to Kaggle for evaluation."
   ]
  },
  {
   "cell_type": "code",
   "execution_count": 53,
   "metadata": {
    "deletable": false,
    "editable": false,
    "nbgrader": {
     "cell_type": "code",
     "checksum": "553fddfce24f4d89fd7ad907a7b22d28",
     "grade": false,
     "grade_id": "fetch-data",
     "locked": true,
     "schema_version": 2,
     "solution": false
    }
   },
   "outputs": [
    {
     "name": "stdout",
     "output_type": "stream",
     "text": [
      "Using version already downloaded: Tue Apr 17 04:45:47 2018\n",
      "MD5 hash of file: 0380c4cf72746622947b9ca5db9b8be8\n",
      "Using version already downloaded: Tue Apr 17 04:45:48 2018\n",
      "MD5 hash of file: a2e7abd8c7d9abf6e6fafc1d1f9ee6bf\n"
     ]
    },
    {
     "data": {
      "text/html": [
       "<div>\n",
       "<style scoped>\n",
       "    .dataframe tbody tr th:only-of-type {\n",
       "        vertical-align: middle;\n",
       "    }\n",
       "\n",
       "    .dataframe tbody tr th {\n",
       "        vertical-align: top;\n",
       "    }\n",
       "\n",
       "    .dataframe thead th {\n",
       "        text-align: right;\n",
       "    }\n",
       "</style>\n",
       "<table border=\"1\" class=\"dataframe\">\n",
       "  <thead>\n",
       "    <tr style=\"text-align: right;\">\n",
       "      <th></th>\n",
       "      <th>id</th>\n",
       "      <th>subject</th>\n",
       "      <th>email</th>\n",
       "      <th>spam</th>\n",
       "    </tr>\n",
       "  </thead>\n",
       "  <tbody>\n",
       "    <tr>\n",
       "      <th>0</th>\n",
       "      <td>0</td>\n",
       "      <td>Subject: A&amp;L Daily to be auctioned in bankrupt...</td>\n",
       "      <td>url: http://boingboing.net/#85534171\\n date: n...</td>\n",
       "      <td>0</td>\n",
       "    </tr>\n",
       "    <tr>\n",
       "      <th>1</th>\n",
       "      <td>1</td>\n",
       "      <td>Subject: Wired: \"Stronger ties between ISPs an...</td>\n",
       "      <td>url: http://scriptingnews.userland.com/backiss...</td>\n",
       "      <td>0</td>\n",
       "    </tr>\n",
       "    <tr>\n",
       "      <th>2</th>\n",
       "      <td>2</td>\n",
       "      <td>Subject: It's just too small                  ...</td>\n",
       "      <td>&lt;html&gt;\\n &lt;head&gt;\\n &lt;/head&gt;\\n &lt;body&gt;\\n &lt;font siz...</td>\n",
       "      <td>1</td>\n",
       "    </tr>\n",
       "    <tr>\n",
       "      <th>3</th>\n",
       "      <td>3</td>\n",
       "      <td>Subject: liberal defnitions\\n</td>\n",
       "      <td>depends on how much over spending vs. how much...</td>\n",
       "      <td>0</td>\n",
       "    </tr>\n",
       "    <tr>\n",
       "      <th>4</th>\n",
       "      <td>4</td>\n",
       "      <td>Subject: RE: [ILUG] Newbie seeks advice - Suse...</td>\n",
       "      <td>hehe sorry but if you hit caps lock twice the ...</td>\n",
       "      <td>0</td>\n",
       "    </tr>\n",
       "  </tbody>\n",
       "</table>\n",
       "</div>"
      ],
      "text/plain": [
       "   id                                            subject  \\\n",
       "0   0  Subject: A&L Daily to be auctioned in bankrupt...   \n",
       "1   1  Subject: Wired: \"Stronger ties between ISPs an...   \n",
       "2   2  Subject: It's just too small                  ...   \n",
       "3   3                      Subject: liberal defnitions\\n   \n",
       "4   4  Subject: RE: [ILUG] Newbie seeks advice - Suse...   \n",
       "\n",
       "                                               email  spam  \n",
       "0  url: http://boingboing.net/#85534171\\n date: n...     0  \n",
       "1  url: http://scriptingnews.userland.com/backiss...     0  \n",
       "2  <html>\\n <head>\\n </head>\\n <body>\\n <font siz...     1  \n",
       "3  depends on how much over spending vs. how much...     0  \n",
       "4  hehe sorry but if you hit caps lock twice the ...     0  "
      ]
     },
     "execution_count": 53,
     "metadata": {},
     "output_type": "execute_result"
    }
   ],
   "source": [
    "from utils import fetch_and_cache_gdrive\n",
    "fetch_and_cache_gdrive('1SCASpLZFKCp2zek-toR3xeKX3DZnBSyp', 'train.csv')\n",
    "fetch_and_cache_gdrive('1ZDFo9OTF96B5GP2Nzn8P8-AL7CTQXmC0', 'eval.csv')\n",
    "\n",
    "original_training_data = pd.read_csv('data/train.csv')\n",
    "evaluation = pd.read_csv('data/eval.csv')\n",
    "\n",
    "# Convert the emails to lower case as a first step to processing the text\n",
    "original_training_data['email'] = original_training_data['email'].str.lower()\n",
    "evaluation['email'] = evaluation['email'].str.lower()\n",
    "\n",
    "original_training_data.head()"
   ]
  },
  {
   "cell_type": "markdown",
   "metadata": {
    "deletable": false,
    "editable": false,
    "nbgrader": {
     "cell_type": "markdown",
     "checksum": "cd636166056f9007afa15fb14e1add52",
     "grade": false,
     "grade_id": "train-test",
     "locked": true,
     "schema_version": 2,
     "solution": false
    }
   },
   "source": [
    "## Train-Test Split\n",
    "\n",
    "The training data we downloaded is all the data we have available for both training models and **testing** the models that we train.  We therefore need to split the training data into separate training and test datsets.  You will need this **test data** to evaluate your model once you are finished training."
   ]
  },
  {
   "cell_type": "code",
   "execution_count": 54,
   "metadata": {
    "deletable": false,
    "editable": false,
    "nbgrader": {
     "cell_type": "code",
     "checksum": "2f91e8f002a63bc72069c5ac957ca5b4",
     "grade": false,
     "grade_id": "train-test-code",
     "locked": true,
     "schema_version": 2,
     "solution": false
    }
   },
   "outputs": [],
   "source": [
    "from sklearn.model_selection import train_test_split\n",
    "\n",
    "[train, test] = train_test_split(original_training_data, test_size=0.1, random_state=42)"
   ]
  },
  {
   "cell_type": "markdown",
   "metadata": {
    "deletable": false,
    "editable": false,
    "nbgrader": {
     "cell_type": "markdown",
     "checksum": "e7b9da3ae60578672c9a42db28823c0a",
     "grade": false,
     "grade_id": "q1",
     "locked": true,
     "schema_version": 2,
     "solution": false
    }
   },
   "source": [
    "# Question 1\n",
    "\n",
    "In the cell below, print the text of the first ham and the first spam email in the training set. Then, discuss one thing you notice that is different between the two that might relate to the identification of spam."
   ]
  },
  {
   "cell_type": "code",
   "execution_count": 55,
   "metadata": {
    "deletable": false,
    "nbgrader": {
     "cell_type": "code",
     "checksum": "ff10a1144d9c5bff85dc2274907ce32c",
     "grade": false,
     "grade_id": "q1-answer",
     "locked": false,
     "schema_version": 2,
     "solution": true
    }
   },
   "outputs": [
    {
     "name": "stdout",
     "output_type": "stream",
     "text": [
      "FIRST HAM\n",
      "url: http://diveintomark.org/archives/2002/10/03.html#when_an_engineer_flaps_his_wings\n",
      " date: 2002-10-03t01:31:51-05:00\n",
      " \n",
      " remember that saying from chaos theory about how when a butterfly flap its \n",
      " wings, it can cause a hurricane a month later halfway around the world? as \n",
      " several people have already noted, google has made some major changes in their \n",
      " most recent update. the weblogging community was hit hard (for instance, i used \n",
      " to be the #1 \"mark\"[1]; i am now #6). the changes appear to be the result of an \n",
      " attempt to stop two phenomena: explicitly selling ads based on pagerank[2], and \n",
      " google bombing[3]. \n",
      " \n",
      " specifically, google is now apparently cross-checking link text with the linked \n",
      " site, and discounting or ignoring links whose text does not appear in the \n",
      " linked site. this all but kills off google bombing. searching for \"go to hell\"\n",
      " [4] no longer takes you to microsoft.com[5]; searching for \"talentless hack\"[6] \n",
      " no longer finds ohmessylife.com[7], although it finds a lot of people who were \n",
      " previously participating in the google bombing. no definitive word yet on \n",
      " whether google is actively penalizing such sites. \n",
      " \n",
      " unfortunately, the algorithm tweaks necessary to stop these two techniques have \n",
      " caused a wide range of collateral damage, apparently coming down hardest on \n",
      " medium-to-large sites that had previously been doing everything right (as far \n",
      " as page structure, link structure, accessibility, and general honest hard work \n",
      " putting together a usable and useful site). the webmasterworld forums are alive \n",
      " with complaints and speculation: \n",
      " \n",
      " - new update, pagerank death?[8] \n",
      " - september 2002 google update discussion - part 1[9] \n",
      " - let's find out what happened - sept 2002 update - pt. 2[10] \n",
      " \n",
      " (side note: amongst the confusion, it has been suggested that google is no \n",
      " longer indexing alt text in images. i can confirm that this is absolutely \n",
      " false. searching diveintomark.org for \"gimli\"[11] finds my entry of july 29[12]\n",
      " , where \"gimli\" is mentioned only in the alt text of an image.) \n",
      " \n",
      " regardless, google's search results in general appear to be significantly \n",
      " degraded in many key areas. the forums are full of people complaining that spam \n",
      " sites, doorway pages, and obvious cloaking attempts, which google used to be so \n",
      " good at filtering out, are now popping up in top spots with disturbing \n",
      " frequency. nobody in the forums wants to talk about which keywords they're \n",
      " tracking, so i tried to find my own concrete example of crap search results. it \n",
      " didn't take long. \n",
      " \n",
      " - searching for reservation hotel[13] brings up an empty sub-page[14] of a \n",
      " hotel reservation company in italy[15] as the first result. this seems \n",
      " unhelpful, and unlikely to be relevant to the average us-based consumer (and \n",
      " google absolutely knows i'm in the us based on my ip address). \n",
      " - searching for news observer nc[16] (the news & observer is a raleigh, nc \n",
      " newspaper) does find the news & observer[17], but it also finds an internet \n",
      " betting spam page[18] at #7 and a non-existent page[19] at #9. \n",
      " - searching for eminem[20] gives us two generic portal pages, a non-existent \n",
      " site, and a site that redirects to a site that continuously redirects to itself \n",
      " (i am not making this up). and this is just on the first page. good thing i \n",
      " didn't care that much about eminem to begin with, because google just isn't \n",
      " that helpful. \n",
      " \n",
      " many people in the webmasterworld forums are now suggesting that alltheweb.com\n",
      " [21] has better search results overall. just as a single comparison, their \n",
      " results for \"eminem\"[22] do appear to be much more relevant. is this the \n",
      " beginning of the end of google's reign?\n",
      " \n",
      " \n",
      " \n",
      " [1]  http://www.google.com/search?q=mark\n",
      " [2]  http://www.pradnetwork.com/affiliate.htm\n",
      " [3]  http://uber.nu/2001/04/06/\n",
      " [4]  http://www.google.com/search?q=%22go+to+hell%22\n",
      " [5]  http://www.microsoft.com/\n",
      " [6]  http://www.google.com/search?q=talentless+hack\n",
      " [7]  http://www.ohmessylife.com/\n",
      " [8]  http://www.webmasterworld.com/forum3/5646.htm\n",
      " [9]  http://www.webmasterworld.com/forum3/5688.htm\n",
      " [10] http://www.webmasterworld.com/forum3/5723.htm\n",
      " [11] http://www.google.com/search?q=gimli+site%3adiveintomark.org\n",
      " [12] http://diveintomark.org/archives/2002/07/29.html\n",
      " [13] http://www.google.com/search?q=reservation+hotel\n",
      " [14] http://www.venere.it/home/italy.html\n",
      " [15] http://www.venere.it/\n",
      " [16] http://www.google.com/search?q=news+observer+nc\n",
      " [17] http://www.news-observer.com/\n",
      " [18] http://www.linkslsgolfworld.com/king-arthur-knight-of-the-round-table.htm\n",
      " [19] http://www.nando.net/nt/nao/\n",
      " [20] http://www.google.com/search?q=eminem\n",
      " [21] http://www.alltheweb.com/\n",
      " [22] http://www.alltheweb.com/search?query=eminem\n",
      " \n",
      " \n",
      "\n",
      "FIRST SPAM\n",
      "###################################\n",
      " \n",
      "   free adult lifetime membership\n",
      "       limited time offer!!!\n",
      " \n",
      " ###################################\n",
      " \n",
      " your instant access password\n",
      " login name:   zzzz@spamassassin.taint.org \n",
      " password:     ackwgy4l\n",
      " \n",
      " 5 of the best adult sites on the internet for free!\n",
      " \n",
      " ---------------------------\n",
      " \n",
      " news 08/25/02\n",
      " over 3.1 million members have signed up for free, last month 229,947\n",
      " new members signed up for free with the limited time offer.\n",
      " are you a free member yet???\n",
      " \n",
      " ---------------------------\n",
      " \n",
      " our membership faq\n",
      " \n",
      " q. why are you offering free access to 5 adult membership sites for free?\n",
      " \n",
      " a. we have advertisers that pay us for ad space so you don't have to\n",
      " pay for a membership.\n",
      " \n",
      " q. is it true that your membership is free for life?\n",
      " a. absolutely, you'll never have to pay a cent the advertisers do.\n",
      " \n",
      " q. do i have to sign up for all 5 free membership sites?\n",
      " a. no, just one to get access to all of them.\n",
      " \n",
      " q. why do i have to give my credit card information?\n",
      " a. it's for age verification purposes only and you will not be charged.\n",
      "    if you don't believe us, just read their terms and conditions.\n",
      " \n",
      " q. how do i get started?\n",
      " a. click on one of the links below to become a free member.\n",
      " \n",
      " ---------------------------\n",
      " \n",
      " # 5. > adults farm\n",
      " http://80.71.66.8/farm/?aid=993751\n",
      " girls and animals getting freaky....free lifetime membership!!\n",
      " \n",
      " # 4. > sexy celebes\n",
      " http://80.71.66.8/celebst/?aid=993751\n",
      " thousands of xxx celebes doing it...free lifetime membership!!\n",
      " \n",
      " # 3. > play house porn\n",
      " http://80.71.66.8/play/?aid=993751\n",
      " live feeds from 60 sites and web cams...free lifetime membership!!\n",
      " \n",
      " # 2. > lesbian lace\n",
      " http://80.71.66.8/lesbian/?aid=993751\n",
      " girls and girls getting freaky! ...free lifetime membership!!\n",
      " \n",
      " # 1. > teen sex fantasies\n",
      " http://80.71.66.8/teen/?aid=993751\n",
      " teen schoolgirls, live sex shows ...free lifetime membership!!\n",
      " \n",
      " --------------------------\n",
      " \n",
      " jennifer simpson, miami, fl\n",
      " your free lifetime membership has entertained my boyfriend and i for\n",
      " the last two years!  your adult sites are the best on the net!\n",
      " \n",
      " joe morgan manhattan, ny\n",
      " your live sex shows and live sex cams are unbelievable. the best part\n",
      " about your porn sites, is that they're absolutely free!\n",
      " \n",
      " --------------------------\n",
      " \n",
      " \n",
      " removal instructions:\n",
      " you have received this advertisement because you have opted in to\n",
      " receive free adult internet offers and specials through our affiliated\n",
      " websites. if you do not wish to receive further emails or have received\n",
      " the email in error you may opt-out of our database here:\n",
      " http://80.71.66.8/optout/index.html please allow 24 hours for removal.\n",
      " \n",
      " this e-mail is sent in compliance with the information exchange\n",
      " promotion and privacy protection act. section 50 marked as\n",
      " 'advertisement' with valid 'removal' instruction.\n",
      " \n",
      " tkuejsrfkmtpfwldpnauksv\n",
      " \n",
      "\n"
     ]
    }
   ],
   "source": [
    "# Print the text of the first ham and the first spam emails. Then, fill in your response in the q01 variable:\n",
    "first_ham = train.loc[train['spam'] == 0, :].reset_index().loc[1, 'email']\n",
    "first_spam = train.loc[train['spam'] == 1, :].reset_index().loc[1, 'email']\n",
    "\n",
    "print(\"FIRST HAM\")\n",
    "print(first_ham)\n",
    "print(\"FIRST SPAM\")\n",
    "print(first_spam)"
   ]
  },
  {
   "cell_type": "code",
   "execution_count": 56,
   "metadata": {
    "deletable": false,
    "editable": false,
    "nbgrader": {
     "cell_type": "code",
     "checksum": "115ba1cae1be0d4c7a5e9b91526fcb19",
     "grade": true,
     "grade_id": "q1-tests",
     "locked": true,
     "points": 1,
     "schema_version": 2,
     "solution": false
    }
   },
   "outputs": [],
   "source": [
    "# This is a cell with just a comment but don't delete me if you want to get credit."
   ]
  },
  {
   "cell_type": "markdown",
   "metadata": {
    "deletable": false,
    "nbgrader": {
     "cell_type": "markdown",
     "checksum": "cc6c8ddb4b03754a64382c725dafc5b0",
     "grade": true,
     "grade_id": "q1-written",
     "locked": false,
     "points": 2,
     "schema_version": 2,
     "solution": true
    },
    "tags": [
     "solution",
     "written",
     "q01"
    ]
   },
   "source": [
    "The one thing that catches my eyes is that the spam email contains a login and password credential. This is a distinct feature for spam since a non-spam email never include credential to a website account in a plain sight without any authentication before getting access to those credentials. "
   ]
  },
  {
   "cell_type": "markdown",
   "metadata": {
    "deletable": false,
    "editable": false,
    "nbgrader": {
     "cell_type": "markdown",
     "checksum": "78b2a5de9976f0492e4325d88e131a47",
     "grade": false,
     "grade_id": "feat-eng",
     "locked": true,
     "schema_version": 2,
     "solution": false
    }
   },
   "source": [
    "# Basic Feature Engineering\n",
    "\n",
    "We would like to take the text of an email and predict whether the text is ham or spam. This is a *classification* problem, so we can use logistic regression to make a classifier. Recall that to train an logistic regression model we need a numeric feature matrix $\\Phi$ (pronounced phi as in wifi) and corresponding binary labels $Y$.  Unfortunately, our data are text, not numbers. To address this, we can create numeric features derived from the email text and use those features for logistic regression.\n",
    "\n",
    "Each row of $\\Phi$ is derived from one email example. Each column of $\\Phi$  is one feature. We'll guide you through creating a simple feature, and you'll create more interesting ones when you are trying to increase your accuracy."
   ]
  },
  {
   "cell_type": "markdown",
   "metadata": {
    "deletable": false,
    "editable": false,
    "nbgrader": {
     "cell_type": "markdown",
     "checksum": "4a6a1160d34bedff1e1a0859a58bf70e",
     "grade": false,
     "grade_id": "q2",
     "locked": true,
     "schema_version": 2,
     "solution": false
    }
   },
   "source": [
    "# Question 2\n",
    "\n",
    "Create a function called `words_in_texts` that takes in a list of `words` and a pandas Series of email `texts`. It should output a 2-dimensional NumPy array containing one row for each email text. The row should contain either a 0 or a 1 for each word in the list: 0 if the word doesn't appear in the text and 1 if the word does. For example:\n",
    "\n",
    "```python\n",
    ">>> words_in_texts(['hello', 'bye', 'world'], \n",
    "                   pd.Series(['hello', 'hello world hello']))\n",
    "\n",
    "array([[1, 0, 0],\n",
    "       [1, 0, 1]])\n",
    "```"
   ]
  },
  {
   "cell_type": "code",
   "execution_count": 57,
   "metadata": {
    "deletable": false,
    "nbgrader": {
     "cell_type": "code",
     "checksum": "296207c542908dd11c481c4f56585743",
     "grade": false,
     "grade_id": "q2-answer",
     "locked": false,
     "schema_version": 2,
     "solution": true
    },
    "tags": [
     "student"
    ]
   },
   "outputs": [],
   "source": [
    "def words_in_texts(words, texts):\n",
    "    '''\n",
    "    Args:\n",
    "        words (list-like): words to find\n",
    "        texts (Series): strings to search in\n",
    "    \n",
    "    Returns:\n",
    "        NumPy array of 0s and 1s with shape (n, p) where n is the\n",
    "        number of texts and p is the number of words.\n",
    "    '''\n",
    "    indicator_array = np.empty([len(words), texts.size]) \n",
    "    \n",
    "    for i in np.arange(len(words)):\n",
    "        indicator_array[i] = np.array(texts.str.contains(words[i]))\n",
    "    return indicator_array.transpose().astype(int)\n"
   ]
  },
  {
   "cell_type": "code",
   "execution_count": 58,
   "metadata": {
    "deletable": false,
    "editable": false,
    "nbgrader": {
     "cell_type": "code",
     "checksum": "6b8eb808ad9b99843c8cd3ad5d20b736",
     "grade": true,
     "grade_id": "q2-tests",
     "locked": true,
     "points": 2,
     "schema_version": 2,
     "solution": false
    },
    "tags": [
     "solution"
    ]
   },
   "outputs": [],
   "source": [
    "# If this doesn't error, your function outputs the correct output for this example\n",
    "assert np.allclose(words_in_texts(['hello', 'bye', 'world'], \n",
    "                                  pd.Series(['hello', 'hello world hello'])),\n",
    "                   np.array([[1, 0, 0], \n",
    "                             [1, 0, 1]]))"
   ]
  },
  {
   "cell_type": "markdown",
   "metadata": {
    "deletable": false,
    "editable": false,
    "nbgrader": {
     "cell_type": "markdown",
     "checksum": "2bacca07aa9b367ec84957d0beb41886",
     "grade": false,
     "grade_id": "eda",
     "locked": true,
     "schema_version": 2,
     "solution": false
    }
   },
   "source": [
    "# Basic EDA\n",
    "\n",
    "Now we need to identify some features that allow us to tell spam and ham emails apart. One idea is to compare the distribution of a single feature in spam emails to the distribution of the same feature in ham emails. If the feature is itself a binary indicator, such as whether a certain word occurs in the text, this amounts to comparing the proportion of spam emails with the word to the proportion of ham emails with the word.\n"
   ]
  },
  {
   "cell_type": "markdown",
   "metadata": {
    "deletable": false,
    "editable": false,
    "nbgrader": {
     "cell_type": "markdown",
     "checksum": "b13eddc109fc8ca94589381ffa188ae3",
     "grade": false,
     "grade_id": "q3a",
     "locked": true,
     "schema_version": 2,
     "solution": false
    }
   },
   "source": [
    "# Question 3a\n",
    "\n",
    "Create a bar chart comparing the proportion of spam and ham emails containing certain words. It should look like the following plot (which was created using `sns.barplot`), but you should choose your own words as candidate features.\n",
    "\n",
    "![training conditional proportions](training_conditional_proportions.png \"Class Conditional Proportions\")\n"
   ]
  },
  {
   "cell_type": "code",
   "execution_count": 59,
   "metadata": {
    "deletable": false,
    "nbgrader": {
     "cell_type": "code",
     "checksum": "c64ceb5b31e1282f8c118e345108f1f2",
     "grade": true,
     "grade_id": "q3a-answer",
     "locked": false,
     "points": 2,
     "schema_version": 2,
     "solution": true
    }
   },
   "outputs": [
    {
     "data": {
      "text/plain": [
       "(0.0, 1)"
      ]
     },
     "execution_count": 59,
     "metadata": {},
     "output_type": "execute_result"
    },
    {
     "data": {
      "image/png": "[encoded data removed]",
      "text/plain": [
       "<matplotlib.figure.Figure at 0x7fc3be637a90>"
      ]
     },
     "metadata": {},
     "output_type": "display_data"
    }
   ],
   "source": [
    "ham_try = original_training_data.drop(['subject'], axis=1)\n",
    "ham_try_words = pd.DataFrame(words_in_texts(['body', 'business', 'html', 'money', 'offer', 'please'], ham_try['email']))\n",
    "ham_try_words = ham_try_words.rename(index=str, columns={0: 'body', 1: 'business', 2: 'html', 3: 'money', 4: 'offer', 5: 'please'})\n",
    "ham_try['body'] = ham_try_words.loc[:, 'body'].values\n",
    "ham_try['business'] = ham_try_words.loc[:, 'business'].values\n",
    "ham_try['html'] = ham_try_words.loc[:, 'html'].values\n",
    "ham_try['money'] = ham_try_words.loc[:, 'money'].values\n",
    "ham_try['offer'] = ham_try_words.loc[:, 'offer'].values\n",
    "ham_try['please'] = ham_try_words.loc[:, 'please'].values\n",
    "ham_try['count'] = 1\n",
    "temp1 = ham_try.groupby('spam').agg({'body': 'sum', 'business': 'sum', 'html': 'sum', 'money': 'sum', 'offer': 'sum', 'please': 'sum', 'count': 'sum'})\n",
    "temp1['body'] = temp1['body'] / temp1['count']\n",
    "temp1['business'] = temp1['business'] / temp1['count']\n",
    "temp1['html'] = temp1['html'] / temp1['count']\n",
    "temp1['money'] = temp1['money'] / temp1['count']\n",
    "temp1['offer'] = temp1['offer'] / temp1['count']\n",
    "temp1['please'] = temp1['please'] / temp1['count']\n",
    "temp1 = temp1.drop(['count'], axis=1)\n",
    "temp1 = temp1.melt()\n",
    "temp1['Email Type'] = [\"Ham\", \"Spam\", \"Ham\", \"Spam\", \"Ham\", \"Spam\", \"Ham\", \"Spam\", \"Ham\", \"Spam\", \"Ham\", \"Spam\"]\n",
    "temp1 = temp1.rename({\"variable\": \"words\", \"value\": \"Proportions of Emails\"}, axis='columns')\n",
    "\n",
    "sns.barplot(x=\"words\", y=\"Proportions of Emails\", hue=\"Email Type\", data=temp1)\n",
    "plt.ylim(ymax=1)\n",
    "\n",
    "\n"
   ]
  },
  {
   "cell_type": "markdown",
   "metadata": {
    "deletable": false,
    "editable": false,
    "nbgrader": {
     "cell_type": "markdown",
     "checksum": "cacc657b9f84fe89c425797255849f69",
     "grade": false,
     "grade_id": "q3b",
     "locked": true,
     "schema_version": 2,
     "solution": false
    }
   },
   "source": [
    "# Question 3b\n",
    "\n",
    "When the feature is binary, it makes sense (as in the previous question) to compare the proportion of 1s in the two classes of email. Otherwise, if the feature can take on many values, it makes sense to compare the distribution under spam to the distribution under ham. Create a *class conditional density plot* like the one below (which was created using `sns.distplot`), comparing the distribution of a feature among all spam emails to the distribution of the same feature among all ham emails. **You may use the Fraction of Uppercase Letters or create your own feature.**\n",
    "\n",
    "![training conditional densities](training_conditional_densities2.png \"Class Conditional Densities\")"
   ]
  },
  {
   "cell_type": "code",
   "execution_count": 60,
   "metadata": {},
   "outputs": [],
   "source": [
    "import string\n",
    "from string import digits\n",
    "import re\n"
   ]
  },
  {
   "cell_type": "code",
   "execution_count": 61,
   "metadata": {
    "deletable": false,
    "nbgrader": {
     "cell_type": "code",
     "checksum": "60246643e0caaa562f6a6ac6814ae0c0",
     "grade": true,
     "grade_id": "q3b-answer",
     "locked": false,
     "points": 2,
     "schema_version": 2,
     "solution": true
    }
   },
   "outputs": [
    {
     "data": {
      "text/plain": [
       "Text(0.5,0,'Fraction of Uppercase Letters in Email')"
      ]
     },
     "execution_count": 61,
     "metadata": {},
     "output_type": "execute_result"
    },
    {
     "data": {
      "image/png": "[encoded data removed]",
      "text/plain": [
       "<matplotlib.figure.Figure at 0x7fc3ad8ac550>"
      ]
     },
     "metadata": {},
     "output_type": "display_data"
    }
   ],
   "source": [
    "fraction_table = pd.read_csv('data/train.csv').drop(['subject'], axis=1)\n",
    "fraction_table['percentage'] = fraction_table['email'].str.findall('[A-Z]').str.len() / fraction_table['email'].str.findall('[a-zA-Z]').str.len()\n",
    "ham_frac = fraction_table.loc[fraction_table['spam'] == 0, :]\n",
    "spam_frac = fraction_table.loc[fraction_table['spam'] == 1, :]\n",
    "\n",
    "sns.distplot(ham_frac['percentage'], kde_kws={\"label\": \"ham\"})\n",
    "sns.distplot(spam_frac['percentage'], kde_kws={\"label\": \"spam\"})\n",
    "\n",
    "plt.xlabel('Fraction of Uppercase Letters in Email')\n",
    "\n"
   ]
  },
  {
   "cell_type": "markdown",
   "metadata": {
    "deletable": false,
    "editable": false,
    "nbgrader": {
     "cell_type": "markdown",
     "checksum": "0d13d7ef0cdd07a7ad8d0a49cdddba9b",
     "grade": false,
     "grade_id": "classification",
     "locked": true,
     "schema_version": 2,
     "solution": false
    }
   },
   "source": [
    "# Basic Classification\n",
    "\n",
    "Notice that the output of `words_in_texts(words, train['email'])` is a numeric matrix containing features for each email. This means we can use it directly to train a classifier!"
   ]
  },
  {
   "cell_type": "markdown",
   "metadata": {
    "deletable": false,
    "editable": false,
    "nbgrader": {
     "cell_type": "markdown",
     "checksum": "a704638a2aa116d175cec5d54011390e",
     "grade": false,
     "grade_id": "q4",
     "locked": true,
     "schema_version": 2,
     "solution": false
    }
   },
   "source": [
    "# Question 4\n",
    "\n",
    "We've given you 5 words that might be useful as features to distinguish spam/ham emails. Use these words as well as the `train` DataFrame to create two NumPy arrays: `Phi_train` and `Y_train`.\n",
    "\n",
    "`Phi_train` should be a matrix of 0s and 1s created by using your `words_in_texts` function on all the emails in the training set.\n",
    "\n",
    "`Y_train` should be a vector of the correct labels for each email in the training set."
   ]
  },
  {
   "cell_type": "code",
   "execution_count": 62,
   "metadata": {
    "deletable": false,
    "nbgrader": {
     "cell_type": "code",
     "checksum": "8b93048015e15c7af26cd4a47e611109",
     "grade": false,
     "grade_id": "q4-answer",
     "locked": false,
     "schema_version": 2,
     "solution": true
    },
    "tags": [
     "student"
    ]
   },
   "outputs": [
    {
     "data": {
      "text/plain": [
       "(array([[0, 0, 0, 0, 0],\n",
       "        [0, 0, 0, 0, 0],\n",
       "        [0, 0, 0, 0, 0],\n",
       "        [0, 0, 0, 0, 0],\n",
       "        [0, 0, 0, 1, 0]]), 7657    0\n",
       " 6911    0\n",
       " 6074    0\n",
       " 4376    0\n",
       " 5766    0\n",
       " Name: spam, dtype: int64)"
      ]
     },
     "execution_count": 62,
     "metadata": {},
     "output_type": "execute_result"
    }
   ],
   "source": [
    "some_words = ['drug', 'bank', 'prescription', 'memo', 'private']\n",
    "\n",
    "Phi_train = words_in_texts(some_words, train['email'])\n",
    "Y_train = train['spam']\n",
    "\n",
    "Phi_train[:5], Y_train[:5]"
   ]
  },
  {
   "cell_type": "code",
   "execution_count": 63,
   "metadata": {
    "deletable": false,
    "editable": false,
    "nbgrader": {
     "cell_type": "code",
     "checksum": "e379ae3ce1967f869f7d7e731ae0f75a",
     "grade": true,
     "grade_id": "q4-tests",
     "locked": true,
     "points": 2,
     "schema_version": 2,
     "solution": false
    }
   },
   "outputs": [],
   "source": [
    "assert np.all(np.unique(Phi_train) == np.array([0, 1]))\n",
    "assert np.all(np.unique(Y_train) == np.array([0, 1]))\n",
    "assert Phi_train.shape[0] == Y_train.shape[0]\n",
    "assert Phi_train.shape[1] == len(some_words)"
   ]
  },
  {
   "cell_type": "markdown",
   "metadata": {
    "deletable": false,
    "editable": false,
    "nbgrader": {
     "cell_type": "markdown",
     "checksum": "2d67277515ec86e13df560be7fb273f4",
     "grade": false,
     "grade_id": "q5",
     "locked": true,
     "schema_version": 2,
     "solution": false
    }
   },
   "source": [
    "# Question 5\n",
    "\n",
    "Now we have matrices we can give to scikit-learn! Using the [`LogisticRegression`](http://scikit-learn.org/stable/modules/generated/sklearn.linear_model.LogisticRegression.html) classifier, train a logistic regression model using `Phi_train` and `Y_train`. Then, output the accuracy of the model (on the training data) in the cell below. You should get an accuracy of around 0.75."
   ]
  },
  {
   "cell_type": "code",
   "execution_count": 64,
   "metadata": {
    "deletable": false,
    "nbgrader": {
     "cell_type": "code",
     "checksum": "a45837a9efac1b9ab3824f860e9ddc1a",
     "grade": false,
     "grade_id": "q5-answer",
     "locked": false,
     "schema_version": 2,
     "solution": true
    },
    "tags": [
     "student"
    ]
   },
   "outputs": [
    {
     "data": {
      "text/plain": [
       "0.75762012511646482"
      ]
     },
     "execution_count": 64,
     "metadata": {},
     "output_type": "execute_result"
    }
   ],
   "source": [
    "import sklearn\n",
    "import sklearn.datasets\n",
    "import sklearn.linear_model\n",
    "\n",
    "lr1 = sklearn.linear_model.LogisticRegression(fit_intercept=True)\n",
    "y_train_fitted = lr1.fit(Phi_train, Y_train)\n",
    "training_accuracy = lr1.score(X=Phi_train, y=Y_train)\n",
    "training_accuracy"
   ]
  },
  {
   "cell_type": "code",
   "execution_count": 65,
   "metadata": {
    "deletable": false,
    "editable": false,
    "nbgrader": {
     "cell_type": "code",
     "checksum": "1133eaddd64442a3139615c57864c60e",
     "grade": true,
     "grade_id": "q5-tests",
     "locked": true,
     "points": 2,
     "schema_version": 2,
     "solution": false
    },
    "tags": [
     "solution"
    ]
   },
   "outputs": [],
   "source": [
    "assert training_accuracy > 0.72"
   ]
  },
  {
   "cell_type": "markdown",
   "metadata": {
    "deletable": false,
    "editable": false,
    "nbgrader": {
     "cell_type": "markdown",
     "checksum": "2ccbf7ec8e32a2963fac3ca5624407d0",
     "grade": false,
     "grade_id": "q6",
     "locked": true,
     "schema_version": 2,
     "solution": false
    }
   },
   "source": [
    "# Question 6\n",
    "\n",
    "That doesn't seem too shabby! But the classifier you made above isn't as good as this might lead us to believe. First, we are evaluating on the training set, which may lead to a misleading accuracy measure, especially if we used the training set to identify discriminative features. In future parts of this analysis, it will be safer to hold out some of our data for model validation and comparison.\n",
    "\n",
    "Presumably, our classifier will be used for **filtering**, i.e. preventing messages labelled `spam` from reaching someone's inbox. Since we are trying  There are two kinds of errors we can make:\n",
    "- False positive (FP): a ham email gets flagged as spam and filtered out of the inbox.\n",
    "- False negative (FN): a spam email gets mislabelled as ham and ends up in the inbox.\n",
    "\n",
    "These definitions depend both on the true labels and the predicted labels. False positives and false negatives may be of differing importance, leading us to consider more ways of evaluating a classifier, in addition to overall accuracy:\n",
    "\n",
    "**Precision** measures the proportion $\\frac{\\text{TP}}{\\text{TP} + \\text{FP}}$ of emails flagged as spam that are actually spam.\n",
    "\n",
    "**Recall** measures the proportion $\\frac{\\text{TP}}{\\text{TP} + \\text{FN}}$ of spam emails that were correctly flagged as spam. \n",
    "\n",
    "**False-alarm rate** measures the proportion $\\frac{\\text{FP}}{\\text{FP} + \\text{TN}}$ of ham emails that were incorrectly flagged as spam. \n",
    "\n",
    "The following image might help:\n",
    "\n",
    "<img src=\"https://upload.wikimedia.org/wikipedia/commons/thumb/2/26/Precisionrecall.svg/700px-Precisionrecall.svg.png\" width=\"500px\">\n",
    "\n",
    "Note that a true positive (TP) is a spam email that is classified as spam, and a true negative (TN) is a ham email that is classified as ham. Answer the following questions in the cells below:\n",
    "\n",
    "- (a) Suppose we have a classifier that just predicts 0 (ham) for every email. How many false positives are there? How many false negatives are there? Provide specific numbers using the training data from Question 4.\n",
    "- (b) Suppose we have a classifier that just predicts 0 (ham) for every email. What is its accuracy on the training set? What is its recall on the training set?\n",
    "- (c) What are the precision, recall, and false-alarm rate of the logistic regression classifier in Question 5? Are there more false positives or false negatives? \n",
    "- (d) Our logistic regression classifier got 75.6% prediction accuracy (number of correct predictions / total). How does this compare with predicting 0 for every email?\n",
    "- (e) Given the word features we gave you above, name one reason this classifier is performing poorly.\n",
    "- (f) Which of these two classifiers would you prefer for a spam filter and why? (N.B. there is no \"right answer\" here but be thoughtful in your reasoning)."
   ]
  },
  {
   "cell_type": "code",
   "execution_count": 66,
   "metadata": {
    "deletable": false,
    "nbgrader": {
     "cell_type": "code",
     "checksum": "fb6be2a577f65651b583021d052505f3",
     "grade": false,
     "grade_id": "q6a-answer",
     "locked": false,
     "schema_version": 2,
     "solution": true
    }
   },
   "outputs": [
    {
     "name": "stdout",
     "output_type": "stream",
     "text": [
      "zero_predictor_fp = 0\n",
      "zero_predictor_fn = 1918\n"
     ]
    }
   ],
   "source": [
    "# provide number of FP and FN, respectively,\n",
    "# for a classifier that always predicts 0 (never predicts positive...)\n",
    "zero_predictor_fp = 0\n",
    "zero_predictor_fn = np.sum(Y_train != 0)\n",
    "\n",
    "print(\"zero_predictor_fp =\", zero_predictor_fp)\n",
    "print(\"zero_predictor_fn =\", zero_predictor_fn)\n"
   ]
  },
  {
   "cell_type": "code",
   "execution_count": 67,
   "metadata": {
    "deletable": false,
    "editable": false,
    "nbgrader": {
     "cell_type": "code",
     "checksum": "4170e6f271d97eab6ab77523d0c9689c",
     "grade": true,
     "grade_id": "q6a-tests",
     "locked": true,
     "points": 2,
     "schema_version": 2,
     "solution": false
    }
   },
   "outputs": [],
   "source": [
    "# This is a cell with just a comment but don't delete me if you want to get credit."
   ]
  },
  {
   "cell_type": "code",
   "execution_count": 68,
   "metadata": {
    "deletable": false,
    "nbgrader": {
     "cell_type": "code",
     "checksum": "551cfb296a0d066ef7f88a4450cd56f2",
     "grade": false,
     "grade_id": "q6b-answer",
     "locked": false,
     "schema_version": 2,
     "solution": true
    }
   },
   "outputs": [
    {
     "name": "stdout",
     "output_type": "stream",
     "text": [
      "zero_predictor_acc = 0.744709170771\n",
      "zero_predictor_recall = 0.0\n"
     ]
    }
   ],
   "source": [
    "# provide training accuracy & recall, respectively,\n",
    "# for a classifier that always predicts 0\n",
    "zero_predictor_acc = np.sum(Y_train == 0) / len(Y_train)\n",
    "zero_predictor_recall = 0 / (0 + zero_predictor_fn)\n",
    "print(\"zero_predictor_acc =\", zero_predictor_acc)\n",
    "print(\"zero_predictor_recall =\", zero_predictor_recall)\n",
    "\n",
    "\n"
   ]
  },
  {
   "cell_type": "code",
   "execution_count": 69,
   "metadata": {
    "deletable": false,
    "editable": false,
    "nbgrader": {
     "cell_type": "code",
     "checksum": "2da0a2fd20e7773dc36190301cee53f5",
     "grade": true,
     "grade_id": "q6b-tests",
     "locked": true,
     "points": 2,
     "schema_version": 2,
     "solution": false
    }
   },
   "outputs": [],
   "source": [
    "# This is a cell with just a comment but don't delete me if you want to get credit."
   ]
  },
  {
   "cell_type": "code",
   "execution_count": 70,
   "metadata": {
    "deletable": false,
    "nbgrader": {
     "cell_type": "code",
     "checksum": "d3775f0397ec6a892683277ff9bb041d",
     "grade": false,
     "grade_id": "q6c-answer",
     "locked": false,
     "schema_version": 2,
     "solution": true
    }
   },
   "outputs": [
    {
     "name": "stdout",
     "output_type": "stream",
     "text": [
      "logistic_predictor_precision_using_lab: 0.642228739003\n",
      "logistic_predictor_recall_using_lab: 0.114181438999\n",
      "logistic_predictor_far: 0.0218051831993\n",
      "false_positive_logistic:  122\n",
      "false_negative_logictic: 1699\n"
     ]
    }
   ],
   "source": [
    "# provide training accuracy & recall, respectively,\n",
    "# for logistic regression classifier from question 5\n",
    "q5model_predict = lr1.predict(Phi_train)\n",
    "logistic_predictor_precision = np.sum((q5model_predict == Y_train) & (q5model_predict == 1)) / np.sum(q5model_predict)\n",
    "print(\"logistic_predictor_precision_using_lab:\", logistic_predictor_precision)\n",
    "\n",
    "#logistic_predictor_precision1 = np.sum((q5model_predict == Y_train) & (q5model_predict == 1)) / np.sum(q5model_predict == 1)\n",
    "#print(\"logistic_predictor_precision:\", logistic_predictor_precision1)\n",
    "\n",
    "logistic_predictor_recall = np.sum((q5model_predict == Y_train) & (q5model_predict == 1)) / np.sum(Y_train)\n",
    "print(\"logistic_predictor_recall_using_lab:\", logistic_predictor_recall)\n",
    "\n",
    "#logistic_predictor_recall1 = np.sum((q5model_predict == Y_train) & (q5model_predict == 1)) / (np.sum((q5model_predict == Y_train) & (q5model_predict == 1)) + np.sum((q5model_predict != Y_train) & (q5model_predict == 0)))\n",
    "#print(\"logistic_predictor_recall:\", logistic_predictor_recall1)\n",
    "\n",
    "logistic_predictor_far = np.sum((q5model_predict != Y_train) & (q5model_predict == 1)) / (np.sum((q5model_predict != Y_train) & (q5model_predict == 1)) + np.sum((q5model_predict == Y_train) & (q5model_predict == 0)))\n",
    "print(\"logistic_predictor_far:\", logistic_predictor_far)\n",
    "\n",
    "false_positive_logistic = np.sum((q5model_predict != Y_train) & (q5model_predict == 1))\n",
    "false_negative_logictic = np.sum((q5model_predict != Y_train) & (q5model_predict == 0))\n",
    "print(\"false_positive_logistic: \", false_positive_logistic)\n",
    "print(\"false_negative_logictic:\", false_negative_logictic)\n"
   ]
  },
  {
   "cell_type": "code",
   "execution_count": 71,
   "metadata": {
    "deletable": false,
    "editable": false,
    "nbgrader": {
     "cell_type": "code",
     "checksum": "1d5da8b3485c912e0e04d5a4cb125678",
     "grade": true,
     "grade_id": "q6c-tests",
     "locked": true,
     "points": 2,
     "schema_version": 2,
     "solution": false
    }
   },
   "outputs": [],
   "source": [
    "# This is a cell with just a comment but don't delete me if you want to get credit."
   ]
  },
  {
   "cell_type": "markdown",
   "metadata": {
    "deletable": false,
    "nbgrader": {
     "cell_type": "markdown",
     "checksum": "b0c889c63a8057b74c02d98a0b25e392",
     "grade": true,
     "grade_id": "q6-written",
     "locked": false,
     "points": 3,
     "schema_version": 2,
     "solution": true
    },
    "tags": [
     "solution",
     "written",
     "q06"
    ]
   },
   "source": [
    "(a) Suppose we have a classifier that just predicts 0 (ham) for every email. How many false positives are there? How many false negatives are there? Provide specific numbers using the training data from Question 4.\n",
    "\n",
    "There are zero false positives since our classifier always predicts 0,  which is ham and negative. There are 1918 false negatives after doing calculation using the np.sum(Y_train != 0) formula.\n",
    "\n",
    "(b) Suppose we have a classifier that just predicts 0 (ham) for every email. What is its accuracy on the training set? What is its recall on the training set?\n",
    "\n",
    "The accuracy is 0.744709170771 and the recall is 0.0.\n",
    "\n",
    "(c) What are the precision, recall, and false-alarm rate of the logistic regression classifier in Question 5? Are there more false positives or false negatives?\n",
    "\n",
    "The precision is 0.642228739003, the recall is 0.114181438999, and the false-alarm rate is 0.0218051831993. There are more false negatives.\n",
    "\n",
    "(d) Our logistic regression classifier got 75.6% prediction accuracy (number of correct predictions / total). How does this compare with predicting 0 for every email?\n",
    "\n",
    "It is better than the classifier with all 0's since it has higher prediction accuracy at 75.6% compared to the 74.5% prediction accuracy for the classifier that just predicts 0 (ham) for every email.\n",
    "\n",
    "(e) Given the word features we gave you above, name one reason this classifier is performing poorly.\n",
    "\n",
    "One reason why logistic classifier is performing poorly is the words choice; these words are not really reflective of spam emails. Words like drug, prescription, memo, and private are not particularly good in classifying spam emails while the word bank might be okay for classifying. A better set of features might include fast, account, password, username, and pay.\n",
    "\n",
    "(f) Which of these two classifiers would you prefer for a spam filter and why? (N.B. there is no \"right answer\" here but be thoughtful in your reasoning).\n",
    "\n",
    "I would use the logistic classifier instead of the classifier that just predicts 0 (ham) for every email since the accuracy of the logictic classifier is higher than the 0 classifier. \n"
   ]
  },
  {
   "cell_type": "markdown",
   "metadata": {
    "deletable": false,
    "editable": false,
    "nbgrader": {
     "cell_type": "markdown",
     "checksum": "420d757256a0c1fd96228b7f622682bb",
     "grade": false,
     "grade_id": "p2",
     "locked": true,
     "schema_version": 2,
     "solution": false
    }
   },
   "source": [
    "# Part II - Moving Forward\n",
    "\n",
    "With this in mind, it is now your task to make the spam filter more accurate. In order to get full credit on the accuracy part of this assignment, you must get at least **88%** accuracy on the evaluation set. To see your accuracy on the evaluation set, you will use your classifier to predict every email in the `evaluation` DataFrame and upload your predictions to Kaggle.\n",
    "\n",
    "To prevent you from fitting to the evaluation set, you may only upload predictions to Kaggle twice per day. This means you should start early and rely on your **test data** to estimate your Kaggle scores.  \n",
    "\n",
    "Here are some ideas for improving your model:\n",
    "\n",
    "1. Finding better features based on the email text. Some example features are:\n",
    "    1. Number of characters in the subject / body\n",
    "    1. Number of words in the subject / body\n",
    "    1. Use of punctuation (e.g., how many '!' were there?)\n",
    "    1. Number / percentage of capital letters \n",
    "    1. Whether the email is a reply to an earlier email or a forwarded email\n",
    "1. Finding better words to use as features. Which words are the best at distinguishing emails? This requires digging into the email text itself. \n",
    "1. Better data processing. For example, many emails contain HTML as well as text. You can consider extracting out the text from the HTML to help you find better words. Or, you can match HTML tags themselves, or even some combination of the two.\n",
    "1. Model selection. You can adjust parameters of your model (e.g. the regularization parameter) to achieve higher accuracy. Recall that you should use cross-validation to do feature and model selection properly! Otherwise, you will likely overfit to your training data.\n",
    "\n",
    "You may use whatever method you prefer in order to create features. However, **you are only allowed to train logistic regression models and their regularized forms**. This means no random forest, k-nearest-neighbors, neural nets, etc.\n",
    "\n",
    "We will not give you a code skeleton to do this, so feel free to create as many cells as you need in order to tackle this task. However, answering questions 7, 8, and 9 should help guide you.\n",
    "\n",
    "---\n",
    "\n",
    "**Note:** *You should use the **test data** to evaluate your model and get a better sense of how it will perform on the Kaggle evaluation.*\n",
    "\n",
    "---"
   ]
  },
  {
   "cell_type": "code",
   "execution_count": 72,
   "metadata": {},
   "outputs": [
    {
     "data": {
      "text/plain": [
       "2       <html>\\n <head>\\n </head>\\n <body>\\n <font siz...\n",
       "7       ------000000000000000000000\\n content-type: te...\n",
       "10      <html>\\n <head>\\n <title>reliaquote - save up ...\n",
       "14      dear ricardo1 ,\\n \\n <html>\\n <body>\\n <center...\n",
       "17      <body bgcolor=#ffffff>\\n <div><font face=arial...\n",
       "21      interested in renting or selling your\\n timesh...\n",
       "23      <html>\\n <body>\\n <p>shoot your wad all over h...\n",
       "29      dear cypherpunks =2c\\n \\n =3cbody bgcolor=3d#f...\n",
       "33      <html>\\n <body>\\n \\n <center>\\n <font face=\"ar...\n",
       "35      (see disclaimer below)\\n \\n \\n dear internet m...\n",
       "36      \\n educate yourself about everything you ever ...\n",
       "38      <html>\\n <head>\\n \\t<title>teen</title>\\n </he...\n",
       "44      \\n hi,\\n \\n you can make $50,000 or more in th...\n",
       "51      i am sending you this message because we have ...\n",
       "54      <html><body>\\n \\n <table bgcolor=3d\"663399\" bo...\n",
       "57      give me 5 minutes and i will show you how\\n to...\n",
       "59      dear consumers, increase your business sales! ...\n",
       "63      lowest rates available for term life insurance...\n",
       "65      \\n \\n are you having trouble with your compute...\n",
       "66      <html>\\n <body>\\n <p align=\"center\"><a href=\"h...\n",
       "68      this is a multi-part message in mime format.\\n...\n",
       "71      \\n to:   avfs@fazekas.hu\\n attn: marketing dep...\n",
       "75      this is a multi-part message in mime format.\\n...\n",
       "76      <html><body><div align=3d\"center\">\\n   <center...\n",
       "87      this is a multi-part message in mime format.\\n...\n",
       "88      <html>\\n    <head><title>free* ckbe fragrance<...\n",
       "90      \\n <html><body>\\n <center>\\n <table bgcolor=3d...\n",
       "97      <html>\\n \\n <body>\\n \\n <p><font face=3d\"arial...\n",
       "102     <html><head>\\n <meta http-equiv=3dcontent-type...\n",
       "103     <html>\\n \\n <head>\\n <meta http-equiv=3d\"conte...\n",
       "                              ...                        \n",
       "8250    some opportunities only come around every 30\\n...\n",
       "8254    <html>\\n <head>\\n <title>mailv07a.gif</title>\\...\n",
       "8255    \\n <html>\\n <body>\\n <!doctype html public \"-/...\n",
       "8257    8800jwxs6-165kybb8203gssw1-200othp6418l36\\n \\n...\n",
       "8258    ------=_nextpart_000_00e2_83d00e6b.e2024a14\\n ...\n",
       "8259    this is a multi-part message in mime format.\\n...\n",
       "8266    this is a multipart message in mime format.\\n ...\n",
       "8267    <html><xbody>\\n <hr width = \"100%\">\\n <center>...\n",
       "8268    this is a multi-part message in mime format.\\n...\n",
       "8271    \\n f i n a l    n o t i c e !\\n new program pa...\n",
       "8277    hello...by reading the short summary just belo...\n",
       "8279    <html>\\n \\n <head>\\n <meta http-equiv=3d\"conte...\n",
       "8280    (see disclaimer below)\\n \\n \\n dear internet m...\n",
       "8286    <html>\\n \\n <head>\\n <meta http-equiv=3d\"conte...\n",
       "8289    dear consumers, increase your business sales! ...\n",
       "8291    <!doctype html public \"-//w3c//dtd html 4.0 tr...\n",
       "8293    investment scholars club- bringing you the lat...\n",
       "8294    ------0000000000000000000000000000000000000000...\n",
       "8296    <html>\\n <head>\\n </head>\\n <center>\\n <h1>\\n ...\n",
       "8298    <hr>\\n <html>\\n <div bgcolor=3d\"#ffffcc\">\\n \\n...\n",
       "8303    lowest rates available for term life insurance...\n",
       "8305    \\n -----=b1z9tz8hennlu9udi_dkzpz49njtph\\n cont...\n",
       "8312    <title>new page 1</title>\\n </head>\\n \\n <body...\n",
       "8316    <html>\\n <body>\\n <p align=\"center\"><b><font s...\n",
       "8317    <html>\\n \\n <head>\\n <meta http-equiv=3d\"conte...\n",
       "8318    market internet access \\n \\n no investment nee...\n",
       "8322    below is the result of your feedback form.  it...\n",
       "8324    <html>\\n <body>\\n <p>67% of women desire a &qu...\n",
       "8345    we need help.  we are a 14 year old fortune 50...\n",
       "8346    <html>\\n \\n \\n <head> \\n <meta charset=3dutf-8...\n",
       "Name: email, Length: 2140, dtype: object"
      ]
     },
     "execution_count": 72,
     "metadata": {},
     "output_type": "execute_result"
    }
   ],
   "source": [
    "original_training_data.loc[original_training_data['spam'] == 1, 'email']"
   ]
  },
  {
   "cell_type": "code",
   "execution_count": 73,
   "metadata": {},
   "outputs": [
    {
     "name": "stdout",
     "output_type": "stream",
     "text": [
      "0.911486756289\n",
      "0.902994011976\n"
     ]
    }
   ],
   "source": [
    "# Just change choice of words\n",
    "\n",
    "better_word = ['<html>\\n', '<head>\\n', 'free', 'money', 'helvetica', 'click', 'sale',\n",
    "               'hurry', 'receive', 'purchase', 'buy', 'adult', 'help', '<body>\\n', 'maker',\n",
    "               'earn', 'desire', 'market', 'investment', 'fortune', 'get', 'limited', 'fwd',\n",
    "               're', 'guarantee', 'guaranteed', 'sorry', 'viagra', 'please', 'http', 'off',\n",
    "               'business', 'offer', 'confidential', 'fast', 'quick', 'cypherpunks', 'cypherpunk',\n",
    "               'dear', '<meta', 'meta', 'rent', 'sell', 'renting', 'selling', 'lowest', 'low',\n",
    "               'increase', 'access', 'multi-part', 'multipart', 'mime', 'life', 'insurance', \n",
    "               'complimentary', 'sales', 'more', 'spam', 'term', 'opportunities', 'opportunity',\n",
    "               'miss', 'every', 'just', 'marketing', 'life insurance', 'interested', 'desire',\n",
    "               'rates', 'yourself', 'hurry', 'show','commission', 'comissions', 'own', 'timeshare',\n",
    "               'win', 'discover', 'final', 'come around', 'status', 'consumer', 'consumers',\n",
    "               'multiply', 'available']\n",
    "\n",
    "\n",
    "lr2 = sklearn.linear_model.LogisticRegression(fit_intercept=True)\n",
    "Phi_train_better1 = words_in_texts(better_word, train['email'])\n",
    "Y_train_better1 = train['spam']\n",
    "y_train_fitted_better1 = lr2.fit(Phi_train_better1, Y_train_better1)\n",
    "\n",
    "training_accuracy_better1 = lr2.score(X=Phi_train_better1, y=Y_train_better1)\n",
    "print(training_accuracy_better1)\n",
    "\n",
    "Phi_test_better1 = words_in_texts(better_word, test['email'])\n",
    "Y_test_better1 = test['spam']\n",
    "#y_test_fitted_better1 = lr2.fit(Phi_test_better1, Y_test_better1)\n",
    "testing_accuracy_better1 = lr2.score(X=Phi_test_better1, y=Y_test_better1)\n",
    "print(testing_accuracy_better1)\n",
    "\n"
   ]
  },
  {
   "cell_type": "markdown",
   "metadata": {
    "deletable": false,
    "editable": false,
    "nbgrader": {
     "cell_type": "markdown",
     "checksum": "55580b1682a53b3d3bab8e3d6b928973",
     "grade": false,
     "grade_id": "q7",
     "locked": true,
     "schema_version": 2,
     "solution": false
    }
   },
   "source": [
    "# Question 7 (Feature/Model Selection Process)\n",
    "\n",
    "In this following cell, describe the process of improving your model. You should use at least 2-3 sentences each to address the follow questions:\n",
    "\n",
    "1. How did you find better features for your model?\n",
    "2. What did you try that worked / didn't work?\n",
    "3. What was surprising in your search for good features?"
   ]
  },
  {
   "cell_type": "markdown",
   "metadata": {
    "deletable": false,
    "nbgrader": {
     "cell_type": "markdown",
     "checksum": "939e6a5a273ced9801a7c510aac0cde4",
     "grade": true,
     "grade_id": "q7-written",
     "locked": false,
     "points": 6,
     "schema_version": 2,
     "solution": true
    },
    "tags": [
     "student",
     "written",
     "q_feature"
    ]
   },
   "source": [
    "1. I first tried different features from changing the word choice; I started by having a small list of improved words and building upon that list based on the test accuracy score in order to increase the test accuracy. I also tried to use variation of lengths of the email or the subject (in terms of words as well as characters), but this method produces lower accuracy than the original model of part 1.\n",
    "\n",
    "2. The feature that just changes the word choice worked well; the test accuracy slowly increase as I add the right words into the new word choice list. On the other hand, the features that used variation of lengths of the email or the subject (in terms of words as well as characters) did not work very well since it has lower test accuracy level than the original model in part 1.\n",
    "\n",
    "3. The most surprising thing is that the words choice matter a lot. A single great word can increase the test accuracy by 1%; these are the words that are prevalent in the spam emails."
   ]
  },
  {
   "cell_type": "markdown",
   "metadata": {
    "deletable": false,
    "editable": false,
    "nbgrader": {
     "cell_type": "markdown",
     "checksum": "60b1230b3da1ce9160009cccef25dd8d",
     "grade": false,
     "grade_id": "q8",
     "locked": true,
     "schema_version": 2,
     "solution": false
    }
   },
   "source": [
    "# Question 8 (EDA)\n",
    "\n",
    "In the two cells below, show a visualization that you used to select features for your model. Include both\n",
    "\n",
    "1. A plot showing something meaningful about the data that helped you during feature / model selection.\n",
    "2. 2-3 sentences describing what you plotted and what its implications are for your features.\n",
    "\n",
    "Feel to create as many plots as you want in your process of feature selection, but select one for the cells below.\n",
    "\n",
    "**You should not show us a visualization just like in question 3.** Specifically, don't show us a bar chart of proportions, or a one-dimensional class conditional density plot. Any other plot is acceptable, as long as it comes with thoughtful commentary. Here are some ideas:\n",
    "\n",
    "1. Consider the correlation between multiple features (look up correlation plots and `sns.heatmap`). \n",
    "1. Try to show redundancy in a group of features (e.g. `body` and `html` might co-occur relatively frequently, or you might be able to design a feature that captures all html tags and compare it to these). \n",
    "1. Use a word-cloud or another visualization tool to characterize the most common spam words.\n",
    "1. Visually depict whether spam emails tend to be wordier (in some sense) than ham emails."
   ]
  },
  {
   "cell_type": "code",
   "execution_count": 89,
   "metadata": {
    "deletable": false,
    "nbgrader": {
     "cell_type": "code",
     "checksum": "94f71f52acc1ddc1af721de03dddc841",
     "grade": true,
     "grade_id": "q8-eda",
     "locked": false,
     "points": 3,
     "schema_version": 2,
     "solution": true
    },
    "tags": [
     "student",
     "written",
     "q_eda1"
    ]
   },
   "outputs": [
    {
     "name": "stdout",
     "output_type": "stream",
     "text": [
      "Words where y > x, i.e. more used in spam than in ham (in red in the graph):\n",
      "<html>\n",
      "\n",
      "<head>\n",
      "\n",
      "money\n",
      "helvetica\n",
      "click\n",
      "sale\n",
      "receive\n",
      "purchase\n",
      "adult\n",
      "<body>\n",
      "\n",
      "market\n",
      "investment\n",
      "fortune\n",
      "limited\n",
      "fwd\n",
      "guarantee\n",
      "guaranteed\n",
      "viagra\n",
      "please\n",
      "business\n",
      "offer\n",
      "confidential\n",
      "cypherpunks\n",
      "cypherpunk\n",
      "dear\n",
      "<meta\n",
      "meta\n",
      "lowest\n",
      "increase\n",
      "multi-part\n",
      "multipart\n",
      "mime\n",
      "life\n",
      "insurance\n",
      "complimentary\n",
      "sales\n",
      "term\n",
      "opportunities\n",
      "just\n",
      "marketing\n",
      "life insurance\n",
      "desire\n",
      "rates\n",
      "show\n",
      "commission\n",
      "own\n"
     ]
    },
    {
     "data": {
      "image/png": "[encoded data removed]",
      "text/plain": [
       "<matplotlib.figure.Figure at 0x7fc3ae1665f8>"
      ]
     },
     "metadata": {},
     "output_type": "display_data"
    }
   ],
   "source": [
    "df_new = train.drop(['subject'], axis=1)\n",
    "arr_words = pd.DataFrame(words_in_texts(better_word, df_new['email']))\n",
    "arr_words = arr_words.rename(index=str, columns={0: '<html>\\n', 1: '<head>\\n', 2: 'free', 3: 'money', 4: 'helvetica', \n",
    "                                                 5: 'click', 6: 'sale', 7: 'hurry', 8: 'receive', 9: 'purchase', 10: 'buy',\n",
    "                                                 11: 'adult', 12: 'help', 13: '<body>\\n', 14: 'maker', 15: 'earn', 16: 'desire',\n",
    "                                                 17: 'market', 18: 'investment', 19: 'fortune', 20: 'get', 21: 'limited', 22: 'fwd',\n",
    "                                                 23: 're', 24: 'guarantee', 25: 'guaranteed', 26: 'sorry', 27: 'viagra', 28: 'please',\n",
    "                                                 29: 'http', 30: 'off', 31: 'business', 32: 'offer', 33: 'confidential', 34: 'fast',\n",
    "                                                 35: 'quick', 36: 'cypherpunks', 37: 'cypherpunk', 38: 'dear', 39: '<meta', 40: 'meta', \n",
    "                                                 41: 'rent', 42: 'sell', 43: 'renting', 44: 'selling', 45: 'lowest', 46: 'low',\n",
    "                                                 47: 'increase', 48: 'access', 49: 'multi-part', 50: 'multipart', 51: 'mime', \n",
    "                                                 52: 'life', 53: 'insurance', 54: 'complimentary', 55: 'sales', 56: 'more', \n",
    "                                                 57: 'spam', 58: 'term', 59: 'opportunities', 60: 'opportunity',\n",
    "                                                 61: 'miss', 62: 'every', 63: 'just', 64: 'marketing', 65: 'life insurance', \n",
    "                                                 66: 'interested', 67: 'desire', 68: 'rates', 69: 'yourself', 70: 'hurry', \n",
    "                                                 71: 'show', 72: 'commission', 73: 'comissions', 74: 'own', 75: 'timeshare',\n",
    "                                                 76: 'win', 77: 'discover', 78: 'final', 79: 'come around', 80: 'status', 81: 'consumer', \n",
    "                                                 82: 'consumers', 83: 'multiply', 84: 'available'})\n",
    "\n",
    "df_new = df_new.drop(['email'], axis=1)\n",
    "df_new['id'] = df_new['id'].astype(int)\n",
    "df_new['spam'] = df_new['spam'].astype(int)\n",
    "\n",
    "arr_words['spam'] = df_new['spam'].values.tolist()\n",
    "\n",
    "to_plot = arr_words.groupby('spam').sum()\n",
    "\n",
    "col = np.where(to_plot.loc[0, :] < to_plot.loc[1, :], 'r', 'b')\n",
    "\n",
    "\n",
    "plt.scatter(to_plot.loc[0, :], to_plot.loc[1, :], c=col, s=3.5)\n",
    "plt.xlabel(\"Ham Count\")\n",
    "plt.ylabel(\"Spam Count\")\n",
    "\n",
    "print('Words where y > x, i.e. more used in spam than in ham (in red in the graph):')\n",
    "for label, x, y in zip(better_word, to_plot.loc[0, :], to_plot.loc[1, :]):\n",
    "    if y > x:\n",
    "        print(label)\n",
    "\n",
    "ax = plt.gca()\n",
    "lims = [\n",
    "    np.min([ax.get_xlim(), ax.get_ylim()]),\n",
    "    np.max([ax.get_xlim(), ax.get_ylim()]),\n",
    "]\n",
    "\n",
    "# now plot both limits against eachother\n",
    "ax.plot(lims, lims, 'k-', alpha=0.75, zorder=0)\n",
    "ax.set_aspect('equal')\n",
    "ax.set_xlim(lims)\n",
    "ax.set_ylim(lims)\n",
    "\n",
    "plt.show()"
   ]
  },
  {
   "cell_type": "markdown",
   "metadata": {
    "deletable": false,
    "nbgrader": {
     "cell_type": "markdown",
     "checksum": "6d76d0efe11b5d997378ac902d04f7c1",
     "grade": true,
     "grade_id": "q8-commentary",
     "locked": false,
     "points": 3,
     "schema_version": 2,
     "solution": true
    }
   },
   "source": [
    "The plot above shows the different words that I used as features in my improved model and their the amount of those words in both the spam and ham emails. Each point represents the word that is used as a feature in my model and the location represents the quantity of spam (y-value) and ham (x-value) emails that contain that word. Words that are good features are (x, y) pairs that are opposite in magnitude; in other words, the x value is high while the y value is low and vice-versa since they reflect the unique nature of either a spam or ham email. In the plot above, the points in red (above y = x line) are used more often in spam emails instead of ham emails; on the other hand, the points in blue (below y = x line) are used more often in ham emails instead of spam emails. The implication for the feature is that the words with the (x, y) pairs that are opposite (high and low) in magnitude are the words that would increase the accuracy of the classifier; also, red points are more used in spam than in ham and blue points are more used in ham.\n",
    "\n"
   ]
  },
  {
   "cell_type": "markdown",
   "metadata": {
    "deletable": false,
    "editable": false,
    "nbgrader": {
     "cell_type": "markdown",
     "checksum": "99200fdbaff3f814a5c7685c862989d9",
     "grade": false,
     "grade_id": "q9",
     "locked": true,
     "schema_version": 2,
     "solution": false
    }
   },
   "source": [
    "# Question 9 (Making a Precision-Recall Curve)\n",
    "\n",
    "We can trade off between precision and recall. In most cases we won't be able to get both perfect precision (i.e. no false positives) and recall (i.e. no false negatives), so we have to compromise. For example, in the case of cancer screenings, false negatives are comparatively worse than false positives — a false negative means that a patient might not discover a disease until it's too late to treat, while a false positive means that a patient will probably have to take another screening.\n",
    "\n",
    "Recall that logistic regression calculates the probability that an example belongs to a certain class. Then, to classify an example we say that an email is spam if our classifier gives it $\\ge 0.5$ probability of being spam. However, *we can adjust that cutoff*: we can say that an email is spam only if our classifier gives it $\\ge 0.7$ probability of being spam, for example. This is how we can trade off false positives and false negatives.\n",
    "\n",
    "The precision-recall curve shows this trade off for each possible cutoff probability. In the cell below, [plot a precision-recall curve](http://scikit-learn.org/stable/auto_examples/model_selection/plot_precision_recall.html#plot-the-precision-recall-curve) for your final classifier (the one you use to make predictions for Kaggle)."
   ]
  },
  {
   "cell_type": "code",
   "execution_count": 246,
   "metadata": {
    "deletable": false,
    "nbgrader": {
     "cell_type": "code",
     "checksum": "8aed6cd26a59c471f66756ebb5e8bc51",
     "grade": true,
     "grade_id": "q9-roc-curve",
     "locked": false,
     "points": 3,
     "schema_version": 2,
     "solution": true
    },
    "tags": [
     "student",
     "written",
     "q_roc"
    ]
   },
   "outputs": [
    {
     "data": {
      "text/plain": [
       "Text(0.5,1,'2-class Precision-Recall curve: SPAM')"
      ]
     },
     "execution_count": 246,
     "metadata": {},
     "output_type": "execute_result"
    },
    {
     "data": {
      "image/png": "[encoded data removed]",
      "text/plain": [
       "<matplotlib.figure.Figure at 0x7f307a9a01d0>"
      ]
     },
     "metadata": {},
     "output_type": "display_data"
    }
   ],
   "source": [
    "from sklearn.metrics import precision_recall_curve\n",
    "\n",
    "# Note that you'll want to use the .predict_proba(...) method for your classifier\n",
    "# instead of .predict(...) so you get probabilities, not classes\n",
    "\n",
    "precision, recall, _ = precision_recall_curve(Y_test_better1, lr2.predict_proba(Phi_test_better1)[:, 1])\n",
    "plt.step(recall, precision, color='b', alpha=0.2,\n",
    "         where='post')\n",
    "plt.fill_between(recall, precision, step='post', alpha=0.2,\n",
    "                 color='b')\n",
    "\n",
    "plt.xlabel('Recall')\n",
    "plt.ylabel('Precision')\n",
    "plt.ylim([0.0, 1.05])\n",
    "plt.xlim([0.0, 1.0])\n",
    "plt.title('2-class Precision-Recall curve: SPAM')\n"
   ]
  },
  {
   "cell_type": "code",
   "execution_count": null,
   "metadata": {},
   "outputs": [],
   "source": []
  },
  {
   "cell_type": "markdown",
   "metadata": {
    "deletable": false,
    "editable": false,
    "nbgrader": {
     "cell_type": "markdown",
     "checksum": "6f241f96a5f0b08ae0392d96660d109d",
     "grade": false,
     "grade_id": "q10",
     "locked": true,
     "schema_version": 2,
     "solution": false
    }
   },
   "source": [
    "# Question 10: Submitting to Kaggle\n",
    "\n",
    "The following code will write your predictions on the evaluation dataset to a CSV, which you can submit to Kaggle. You may need to modify it to suit your needs.\n",
    "\n",
    "Save your predictions in a 1-dimensional array called `evaluation_predictions`. *Even if you are not submitting to Kaggle, please make sure you've saved your predictions to `evaluation_predictions` as this is how your grade for this part will be determined.*\n",
    "\n",
    "Remember that if you've performed transformations or featurization on the training data, you must also perform the same transformations on the evaluation data in order to make predictions. For example, if you've created features for the words \"drug\" and \"money\" on the training data, you must also extract the same features in order to use scikit-learn's `.predict(...)` method.\n",
    "\n",
    "You should submit your CSV files to https://www.kaggle.com/t/39fae66747b14fd48fe0984f2e4f16ac"
   ]
  },
  {
   "cell_type": "code",
   "execution_count": 29,
   "metadata": {},
   "outputs": [
    {
     "data": {
      "text/html": [
       "<div>\n",
       "<style scoped>\n",
       "    .dataframe tbody tr th:only-of-type {\n",
       "        vertical-align: middle;\n",
       "    }\n",
       "\n",
       "    .dataframe tbody tr th {\n",
       "        vertical-align: top;\n",
       "    }\n",
       "\n",
       "    .dataframe thead th {\n",
       "        text-align: right;\n",
       "    }\n",
       "</style>\n",
       "<table border=\"1\" class=\"dataframe\">\n",
       "  <thead>\n",
       "    <tr style=\"text-align: right;\">\n",
       "      <th></th>\n",
       "      <th>id</th>\n",
       "      <th>subject</th>\n",
       "      <th>email</th>\n",
       "    </tr>\n",
       "  </thead>\n",
       "  <tbody>\n",
       "    <tr>\n",
       "      <th>0</th>\n",
       "      <td>0</td>\n",
       "      <td>Subject: CERT Advisory CA-2002-21 Vulnerabilit...</td>\n",
       "      <td>\\n \\n -----begin pgp signed message-----\\n \\n ...</td>\n",
       "    </tr>\n",
       "    <tr>\n",
       "      <th>1</th>\n",
       "      <td>1</td>\n",
       "      <td>Subject: ADV: Affordable Life Insurance ddbfk\\n</td>\n",
       "      <td>low-cost term-life insurance!\\n save up to 70%...</td>\n",
       "    </tr>\n",
       "    <tr>\n",
       "      <th>2</th>\n",
       "      <td>2</td>\n",
       "      <td>Subject: CAREER OPPORTUNITY.  WORK FROM HOME\\n</td>\n",
       "      <td>------=_nextpart_000_00a0_03e30a1a.b1804b54\\n ...</td>\n",
       "    </tr>\n",
       "    <tr>\n",
       "      <th>3</th>\n",
       "      <td>3</td>\n",
       "      <td>Subject: Marriage makes both sexes happy\\n</td>\n",
       "      <td>url: http://www.newsisfree.com/click/-3,848315...</td>\n",
       "    </tr>\n",
       "    <tr>\n",
       "      <th>4</th>\n",
       "      <td>4</td>\n",
       "      <td>Subject: Re: [SAtalk] SA very slow (hangs?) on...</td>\n",
       "      <td>on thursday 29 august 2002 16:39 cet mike burg...</td>\n",
       "    </tr>\n",
       "    <tr>\n",
       "      <th>5</th>\n",
       "      <td>5</td>\n",
       "      <td>Subject: Re: [SAtalk] Graphics-only spam?\\n</td>\n",
       "      <td>\\n \"hess, mtodd, /mth\" said:\\n \\n &gt; i hate to ...</td>\n",
       "    </tr>\n",
       "    <tr>\n",
       "      <th>6</th>\n",
       "      <td>6</td>\n",
       "      <td>Subject: Get the Child Support You Deserve    ...</td>\n",
       "      <td>1) fight the risk of cancer!\\n http://www.adcl...</td>\n",
       "    </tr>\n",
       "    <tr>\n",
       "      <th>7</th>\n",
       "      <td>7</td>\n",
       "      <td>Subject: Re: [SAtalk] Re: [SAdev] File::Spec a...</td>\n",
       "      <td>on wed, sep 11, 2002 at 01:46:19pm -0700, davi...</td>\n",
       "    </tr>\n",
       "    <tr>\n",
       "      <th>8</th>\n",
       "      <td>8</td>\n",
       "      <td>Subject: Re: [ILUG] Sparc Solaris (was: Dell G...</td>\n",
       "      <td>on tue, aug 06, 2002 at 01:22:07pm +0100, ande...</td>\n",
       "    </tr>\n",
       "    <tr>\n",
       "      <th>9</th>\n",
       "      <td>9</td>\n",
       "      <td>Subject: Re: [SAdev] Re: [Razor-users] Mutatin...</td>\n",
       "      <td>justin mason wrote:\\n \\n &gt;&gt; interestingly, som...</td>\n",
       "    </tr>\n",
       "    <tr>\n",
       "      <th>10</th>\n",
       "      <td>10</td>\n",
       "      <td>Subject: Sexabenteuer gefllig?\\n</td>\n",
       "      <td>this is a multipart mime message. since your m...</td>\n",
       "    </tr>\n",
       "    <tr>\n",
       "      <th>11</th>\n",
       "      <td>11</td>\n",
       "      <td>Subject: RE: [ILUG] Sun Solaris..\\n</td>\n",
       "      <td>in a nutshell - solaris is suns own flavour of...</td>\n",
       "    </tr>\n",
       "    <tr>\n",
       "      <th>12</th>\n",
       "      <td>12</td>\n",
       "      <td>Subject: RE: [SAtalk] separate inbound and out...</td>\n",
       "      <td>\\n no i was just a little confused because i'm...</td>\n",
       "    </tr>\n",
       "    <tr>\n",
       "      <th>13</th>\n",
       "      <td>13</td>\n",
       "      <td>Subject: [use Perl] Stories for 2002-09-24\\n</td>\n",
       "      <td>use perl daily newsletter\\n \\n in this issue:\\...</td>\n",
       "    </tr>\n",
       "    <tr>\n",
       "      <th>14</th>\n",
       "      <td>14</td>\n",
       "      <td>Subject: Keillor voices up on what to do with ...</td>\n",
       "      <td>\\n http://www.phc.mpr.org/posthost/index.shtml...</td>\n",
       "    </tr>\n",
       "    <tr>\n",
       "      <th>15</th>\n",
       "      <td>15</td>\n",
       "      <td>Subject: Re: Electric car an Edsel...\\n</td>\n",
       "      <td>\\n --- begin forwarded text\\n \\n \\n status: ro...</td>\n",
       "    </tr>\n",
       "    <tr>\n",
       "      <th>16</th>\n",
       "      <td>16</td>\n",
       "      <td>Subject: I could be JAILED for selling this CD!\\n</td>\n",
       "      <td>dear fellow ebay user,\\n \\n i listed this cd o...</td>\n",
       "    </tr>\n",
       "    <tr>\n",
       "      <th>17</th>\n",
       "      <td>17</td>\n",
       "      <td>Subject: Re: [Razor-users] Razor with sendmail\\n</td>\n",
       "      <td>\\n --o99acavkqrtzeicu\\n content-type: text/pla...</td>\n",
       "    </tr>\n",
       "    <tr>\n",
       "      <th>18</th>\n",
       "      <td>18</td>\n",
       "      <td>Subject: [SAdev] [Bug 1006] Spamassassin's bui...</td>\n",
       "      <td>http://www.hughes-family.org/bugzilla/show_bug...</td>\n",
       "    </tr>\n",
       "    <tr>\n",
       "      <th>19</th>\n",
       "      <td>19</td>\n",
       "      <td>Subject: Re: Selling Wedded Bliss (was Re: Ouc...</td>\n",
       "      <td>on fri, 6 sep 2002, russell turpin wrote:\\n \\n...</td>\n",
       "    </tr>\n",
       "    <tr>\n",
       "      <th>20</th>\n",
       "      <td>20</td>\n",
       "      <td>Subject: Re: dvd::rip on Red Hat 8.0?\\n</td>\n",
       "      <td>once upon a time, michl wrote :\\n \\n &gt; has any...</td>\n",
       "    </tr>\n",
       "    <tr>\n",
       "      <th>21</th>\n",
       "      <td>21</td>\n",
       "      <td>Subject: -&gt; IN THE NEWS TODAY &lt;----\\n</td>\n",
       "      <td>&lt;html&gt;&lt;head&gt;&lt;title&gt;&lt;/title&gt;&lt;meta http-equiv=3d...</td>\n",
       "    </tr>\n",
       "    <tr>\n",
       "      <th>22</th>\n",
       "      <td>22</td>\n",
       "      <td>Subject: Re: [VoID] a new low on the personals...</td>\n",
       "      <td>perhaps we should start a grass roots movement...</td>\n",
       "    </tr>\n",
       "    <tr>\n",
       "      <th>23</th>\n",
       "      <td>23</td>\n",
       "      <td>Subject: PFI hospital's 97m pay bill could cos...</td>\n",
       "      <td>url: http://www.newsisfree.com/click/-2,841883...</td>\n",
       "    </tr>\n",
       "    <tr>\n",
       "      <th>24</th>\n",
       "      <td>24</td>\n",
       "      <td>Subject: Re: bad focus/click behaviours\\n</td>\n",
       "      <td>on fri sep 13 2002 at 02:03, robert elz wrote:...</td>\n",
       "    </tr>\n",
       "    <tr>\n",
       "      <th>25</th>\n",
       "      <td>25</td>\n",
       "      <td>Subject: Re: [ILUG] Dell GX260 V Redhat 7.3\\n</td>\n",
       "      <td>quoting stephen_reilly@dell.com (stephen_reill...</td>\n",
       "    </tr>\n",
       "    <tr>\n",
       "      <th>26</th>\n",
       "      <td>26</td>\n",
       "      <td>Subject: Re: HD/ID: High-Def Independence Day\\n</td>\n",
       "      <td>\\n rohit khare said:\\n \\n &gt; &gt; spamassassin rat...</td>\n",
       "    </tr>\n",
       "    <tr>\n",
       "      <th>27</th>\n",
       "      <td>27</td>\n",
       "      <td>Subject: Work at Home\\n</td>\n",
       "      <td>&lt;!-- saved from url=(0022)http://internet.e-ma...</td>\n",
       "    </tr>\n",
       "    <tr>\n",
       "      <th>28</th>\n",
       "      <td>28</td>\n",
       "      <td>Subject: Attn: NORTON SYSTEMWORKS 2002 BLOWOUT...</td>\n",
       "      <td>&lt;html&gt;\\n \\n &lt;head&gt;\\n &lt;meta http-equiv=3d\"conte...</td>\n",
       "    </tr>\n",
       "    <tr>\n",
       "      <th>29</th>\n",
       "      <td>29</td>\n",
       "      <td>Subject: Critical breast cancer gene identified\\n</td>\n",
       "      <td>url: http://www.newsisfree.com/click/-2,866494...</td>\n",
       "    </tr>\n",
       "    <tr>\n",
       "      <th>...</th>\n",
       "      <td>...</td>\n",
       "      <td>...</td>\n",
       "      <td>...</td>\n",
       "    </tr>\n",
       "    <tr>\n",
       "      <th>970</th>\n",
       "      <td>970</td>\n",
       "      <td>Subject: Re: traceback in new exmh\\n</td>\n",
       "      <td>--==_exmh_2112058634p\\n content-type: text/pla...</td>\n",
       "    </tr>\n",
       "    <tr>\n",
       "      <th>971</th>\n",
       "      <td>971</td>\n",
       "      <td>Subject: Get the most out of your games and gr...</td>\n",
       "      <td>\\n &lt;html&gt;\\n &lt;head&gt;\\n \\t&lt;title&gt;cnet shopper new...</td>\n",
       "    </tr>\n",
       "    <tr>\n",
       "      <th>972</th>\n",
       "      <td>972</td>\n",
       "      <td>Subject: WARNING: Your computer may contain a ...</td>\n",
       "      <td>&lt;html&gt;\\n \\n &lt;head&gt;\\n &lt;meta http-equiv=\"content...</td>\n",
       "    </tr>\n",
       "    <tr>\n",
       "      <th>973</th>\n",
       "      <td>973</td>\n",
       "      <td>Subject: Re: Bug report: msg n+1 marked read\\n</td>\n",
       "      <td>--==_exmh_-1577134449p\\n content-type: text/pl...</td>\n",
       "    </tr>\n",
       "    <tr>\n",
       "      <th>974</th>\n",
       "      <td>974</td>\n",
       "      <td>Subject: Re: HD/ID: High-Def Independence Day\\n</td>\n",
       "      <td>rohit khare wrote:\\n &gt; yes, on a mailing list ...</td>\n",
       "    </tr>\n",
       "    <tr>\n",
       "      <th>975</th>\n",
       "      <td>975</td>\n",
       "      <td>Subject: Garden Ornaments | ppu\\n</td>\n",
       "      <td>our delightful garden ornaments combine the fi...</td>\n",
       "    </tr>\n",
       "    <tr>\n",
       "      <th>976</th>\n",
       "      <td>976</td>\n",
       "      <td>Subject: Re: NASA mindreading\\n</td>\n",
       "      <td>sounds like the \"brain fingerprinting\" touted ...</td>\n",
       "    </tr>\n",
       "    <tr>\n",
       "      <th>977</th>\n",
       "      <td>977</td>\n",
       "      <td>Subject: Guaranteed Best Mortgage Rate\\n</td>\n",
       "      <td>\\n &lt;html&gt;\\n &lt;head&gt;\\n \\n &lt;/head&gt;\\n &lt;body bgcolo...</td>\n",
       "    </tr>\n",
       "    <tr>\n",
       "      <th>978</th>\n",
       "      <td>978</td>\n",
       "      <td>Subject: Toners and inkjet cartridges for less...</td>\n",
       "      <td>&lt;hr&gt;\\n &lt;html&gt;\\n &lt;div bgcolor=3d\"#ffffcc\"&gt;\\n \\n...</td>\n",
       "    </tr>\n",
       "    <tr>\n",
       "      <th>979</th>\n",
       "      <td>979</td>\n",
       "      <td>Subject: Buy the Enron \"E\"\\n</td>\n",
       "      <td>url: http://boingboing.net/#85486452\\n date: n...</td>\n",
       "    </tr>\n",
       "    <tr>\n",
       "      <th>980</th>\n",
       "      <td>980</td>\n",
       "      <td>Subject: Re: [SAdev] [Bug 840] spam_level_char...</td>\n",
       "      <td>\\n --shrvab52m6c8blb9\\n content-type: text/pla...</td>\n",
       "    </tr>\n",
       "    <tr>\n",
       "      <th>981</th>\n",
       "      <td>981</td>\n",
       "      <td>Subject: Now we are 10\\n</td>\n",
       "      <td>url: http://www.newsisfree.com/click/-4,872399...</td>\n",
       "    </tr>\n",
       "    <tr>\n",
       "      <th>982</th>\n",
       "      <td>982</td>\n",
       "      <td>Subject: Re: [ILUG] Autorun CDs\\n</td>\n",
       "      <td>on fri, aug 16, 2002 at 01:59:55pm +0100, padr...</td>\n",
       "    </tr>\n",
       "    <tr>\n",
       "      <th>983</th>\n",
       "      <td>983</td>\n",
       "      <td>Subject: Medical notes\\n</td>\n",
       "      <td>url: http://scriptingnews.userland.com/backiss...</td>\n",
       "    </tr>\n",
       "    <tr>\n",
       "      <th>984</th>\n",
       "      <td>984</td>\n",
       "      <td>Subject: Re: RSA (repost)\\n</td>\n",
       "      <td>\"adam l. beberg\" wrote:\\n &gt; \\n &gt; so, who has d...</td>\n",
       "    </tr>\n",
       "    <tr>\n",
       "      <th>985</th>\n",
       "      <td>985</td>\n",
       "      <td>Subject: Re: ActiveBuddy\\n</td>\n",
       "      <td>\\n how is this any different from attaching an...</td>\n",
       "    </tr>\n",
       "    <tr>\n",
       "      <th>986</th>\n",
       "      <td>986</td>\n",
       "      <td>Subject: Re: David Friedman: Mail Me the Money!\\n</td>\n",
       "      <td>on 9 aug 2002, gary lawrence murphy wrote:\\n \\...</td>\n",
       "    </tr>\n",
       "    <tr>\n",
       "      <th>987</th>\n",
       "      <td>987</td>\n",
       "      <td>Subject: 'Flexible' retirement gains ground\\n</td>\n",
       "      <td>url: http://www.newsisfree.com/click/-4,872400...</td>\n",
       "    </tr>\n",
       "    <tr>\n",
       "      <th>988</th>\n",
       "      <td>988</td>\n",
       "      <td>Subject: [zzzzteana] Frog Fall at Cheapside\\n</td>\n",
       "      <td>near the end of his *memoirs of extraordinary ...</td>\n",
       "    </tr>\n",
       "    <tr>\n",
       "      <th>989</th>\n",
       "      <td>989</td>\n",
       "      <td>Subject: RE: Hanson's Sept 11 message in the N...</td>\n",
       "      <td>\\n &gt; chuck murcko wrote:\\n &gt;\\n &gt; &gt; heh, ten ye...</td>\n",
       "    </tr>\n",
       "    <tr>\n",
       "      <th>990</th>\n",
       "      <td>990</td>\n",
       "      <td>Subject: Lose 16 Pounds In 10 Days GUARANTEED!...</td>\n",
       "      <td>&lt;html&gt;&lt;body&gt;\\n &lt;div align=3d\"center\"&gt;\\n   &lt;cen...</td>\n",
       "    </tr>\n",
       "    <tr>\n",
       "      <th>991</th>\n",
       "      <td>991</td>\n",
       "      <td>Subject: Re: Apt problems\\n</td>\n",
       "      <td>on wed, feb 06, 2002 at 04:30:18pm +0200, harr...</td>\n",
       "    </tr>\n",
       "    <tr>\n",
       "      <th>992</th>\n",
       "      <td>992</td>\n",
       "      <td>Subject: Postmortem: Pixelogic's The Italian J...</td>\n",
       "      <td>url: http://www.newsisfree.com/click/-0,861367...</td>\n",
       "    </tr>\n",
       "    <tr>\n",
       "      <th>993</th>\n",
       "      <td>993</td>\n",
       "      <td>Subject: CNET NEWS.COM: WorldCom woes lead to ...</td>\n",
       "      <td>&lt;html&gt;\\n &lt;head&gt;\\n         &lt;title&gt;worldcom woes...</td>\n",
       "    </tr>\n",
       "    <tr>\n",
       "      <th>994</th>\n",
       "      <td>994</td>\n",
       "      <td>Subject: How to end the war....\\n</td>\n",
       "      <td>\\n forwarded-by: rob windsor &lt;windsor@warthog....</td>\n",
       "    </tr>\n",
       "    <tr>\n",
       "      <th>995</th>\n",
       "      <td>995</td>\n",
       "      <td>Subject: Re: Alsa/Redhat 8 compatability\\n</td>\n",
       "      <td>once upon a time, brian wrote :\\n \\n &gt; \\n &gt;   ...</td>\n",
       "    </tr>\n",
       "    <tr>\n",
       "      <th>996</th>\n",
       "      <td>996</td>\n",
       "      <td>Subject: Re: Goodbye Global Warming\\n</td>\n",
       "      <td>\\n --]&gt; a green once said that if the spotted ...</td>\n",
       "    </tr>\n",
       "    <tr>\n",
       "      <th>997</th>\n",
       "      <td>997</td>\n",
       "      <td>Subject: Re: Entrepreneurs\\n</td>\n",
       "      <td>on fri, 23 aug 2002, robert harley wrote:\\n \\n...</td>\n",
       "    </tr>\n",
       "    <tr>\n",
       "      <th>998</th>\n",
       "      <td>998</td>\n",
       "      <td>Subject: Re: [ILUG] slashdot EW Dijkstra humor\\n</td>\n",
       "      <td>jpl suggested:\\n &gt;  recursion is only truely u...</td>\n",
       "    </tr>\n",
       "    <tr>\n",
       "      <th>999</th>\n",
       "      <td>999</td>\n",
       "      <td>Subject: [ILUG-Social] Everybody Gets Paid - N...</td>\n",
       "      <td>everybody gets paid.  no recruiting required.\\...</td>\n",
       "    </tr>\n",
       "  </tbody>\n",
       "</table>\n",
       "<p>1000 rows × 3 columns</p>\n",
       "</div>"
      ],
      "text/plain": [
       "      id                                            subject  \\\n",
       "0      0  Subject: CERT Advisory CA-2002-21 Vulnerabilit...   \n",
       "1      1    Subject: ADV: Affordable Life Insurance ddbfk\\n   \n",
       "2      2     Subject: CAREER OPPORTUNITY.  WORK FROM HOME\\n   \n",
       "3      3         Subject: Marriage makes both sexes happy\\n   \n",
       "4      4  Subject: Re: [SAtalk] SA very slow (hangs?) on...   \n",
       "5      5        Subject: Re: [SAtalk] Graphics-only spam?\\n   \n",
       "6      6  Subject: Get the Child Support You Deserve    ...   \n",
       "7      7  Subject: Re: [SAtalk] Re: [SAdev] File::Spec a...   \n",
       "8      8  Subject: Re: [ILUG] Sparc Solaris (was: Dell G...   \n",
       "9      9  Subject: Re: [SAdev] Re: [Razor-users] Mutatin...   \n",
       "10    10                   Subject: Sexabenteuer gefllig?\\n   \n",
       "11    11                Subject: RE: [ILUG] Sun Solaris..\\n   \n",
       "12    12  Subject: RE: [SAtalk] separate inbound and out...   \n",
       "13    13       Subject: [use Perl] Stories for 2002-09-24\\n   \n",
       "14    14  Subject: Keillor voices up on what to do with ...   \n",
       "15    15            Subject: Re: Electric car an Edsel...\\n   \n",
       "16    16  Subject: I could be JAILED for selling this CD!\\n   \n",
       "17    17   Subject: Re: [Razor-users] Razor with sendmail\\n   \n",
       "18    18  Subject: [SAdev] [Bug 1006] Spamassassin's bui...   \n",
       "19    19  Subject: Re: Selling Wedded Bliss (was Re: Ouc...   \n",
       "20    20            Subject: Re: dvd::rip on Red Hat 8.0?\\n   \n",
       "21    21              Subject: -> IN THE NEWS TODAY <----\\n   \n",
       "22    22  Subject: Re: [VoID] a new low on the personals...   \n",
       "23    23  Subject: PFI hospital's 97m pay bill could cos...   \n",
       "24    24          Subject: Re: bad focus/click behaviours\\n   \n",
       "25    25      Subject: Re: [ILUG] Dell GX260 V Redhat 7.3\\n   \n",
       "26    26    Subject: Re: HD/ID: High-Def Independence Day\\n   \n",
       "27    27                            Subject: Work at Home\\n   \n",
       "28    28  Subject: Attn: NORTON SYSTEMWORKS 2002 BLOWOUT...   \n",
       "29    29  Subject: Critical breast cancer gene identified\\n   \n",
       "..   ...                                                ...   \n",
       "970  970               Subject: Re: traceback in new exmh\\n   \n",
       "971  971  Subject: Get the most out of your games and gr...   \n",
       "972  972  Subject: WARNING: Your computer may contain a ...   \n",
       "973  973     Subject: Re: Bug report: msg n+1 marked read\\n   \n",
       "974  974    Subject: Re: HD/ID: High-Def Independence Day\\n   \n",
       "975  975                  Subject: Garden Ornaments | ppu\\n   \n",
       "976  976                    Subject: Re: NASA mindreading\\n   \n",
       "977  977           Subject: Guaranteed Best Mortgage Rate\\n   \n",
       "978  978  Subject: Toners and inkjet cartridges for less...   \n",
       "979  979                       Subject: Buy the Enron \"E\"\\n   \n",
       "980  980  Subject: Re: [SAdev] [Bug 840] spam_level_char...   \n",
       "981  981                           Subject: Now we are 10\\n   \n",
       "982  982                  Subject: Re: [ILUG] Autorun CDs\\n   \n",
       "983  983                           Subject: Medical notes\\n   \n",
       "984  984                        Subject: Re: RSA (repost)\\n   \n",
       "985  985                         Subject: Re: ActiveBuddy\\n   \n",
       "986  986  Subject: Re: David Friedman: Mail Me the Money!\\n   \n",
       "987  987      Subject: 'Flexible' retirement gains ground\\n   \n",
       "988  988      Subject: [zzzzteana] Frog Fall at Cheapside\\n   \n",
       "989  989  Subject: RE: Hanson's Sept 11 message in the N...   \n",
       "990  990  Subject: Lose 16 Pounds In 10 Days GUARANTEED!...   \n",
       "991  991                        Subject: Re: Apt problems\\n   \n",
       "992  992  Subject: Postmortem: Pixelogic's The Italian J...   \n",
       "993  993  Subject: CNET NEWS.COM: WorldCom woes lead to ...   \n",
       "994  994                  Subject: How to end the war....\\n   \n",
       "995  995         Subject: Re: Alsa/Redhat 8 compatability\\n   \n",
       "996  996              Subject: Re: Goodbye Global Warming\\n   \n",
       "997  997                       Subject: Re: Entrepreneurs\\n   \n",
       "998  998   Subject: Re: [ILUG] slashdot EW Dijkstra humor\\n   \n",
       "999  999  Subject: [ILUG-Social] Everybody Gets Paid - N...   \n",
       "\n",
       "                                                 email  \n",
       "0    \\n \\n -----begin pgp signed message-----\\n \\n ...  \n",
       "1    low-cost term-life insurance!\\n save up to 70%...  \n",
       "2    ------=_nextpart_000_00a0_03e30a1a.b1804b54\\n ...  \n",
       "3    url: http://www.newsisfree.com/click/-3,848315...  \n",
       "4    on thursday 29 august 2002 16:39 cet mike burg...  \n",
       "5    \\n \"hess, mtodd, /mth\" said:\\n \\n > i hate to ...  \n",
       "6    1) fight the risk of cancer!\\n http://www.adcl...  \n",
       "7    on wed, sep 11, 2002 at 01:46:19pm -0700, davi...  \n",
       "8    on tue, aug 06, 2002 at 01:22:07pm +0100, ande...  \n",
       "9    justin mason wrote:\\n \\n >> interestingly, som...  \n",
       "10   this is a multipart mime message. since your m...  \n",
       "11   in a nutshell - solaris is suns own flavour of...  \n",
       "12   \\n no i was just a little confused because i'm...  \n",
       "13   use perl daily newsletter\\n \\n in this issue:\\...  \n",
       "14   \\n http://www.phc.mpr.org/posthost/index.shtml...  \n",
       "15   \\n --- begin forwarded text\\n \\n \\n status: ro...  \n",
       "16   dear fellow ebay user,\\n \\n i listed this cd o...  \n",
       "17   \\n --o99acavkqrtzeicu\\n content-type: text/pla...  \n",
       "18   http://www.hughes-family.org/bugzilla/show_bug...  \n",
       "19   on fri, 6 sep 2002, russell turpin wrote:\\n \\n...  \n",
       "20   once upon a time, michl wrote :\\n \\n > has any...  \n",
       "21   <html><head><title></title><meta http-equiv=3d...  \n",
       "22   perhaps we should start a grass roots movement...  \n",
       "23   url: http://www.newsisfree.com/click/-2,841883...  \n",
       "24   on fri sep 13 2002 at 02:03, robert elz wrote:...  \n",
       "25   quoting stephen_reilly@dell.com (stephen_reill...  \n",
       "26   \\n rohit khare said:\\n \\n > > spamassassin rat...  \n",
       "27   <!-- saved from url=(0022)http://internet.e-ma...  \n",
       "28   <html>\\n \\n <head>\\n <meta http-equiv=3d\"conte...  \n",
       "29   url: http://www.newsisfree.com/click/-2,866494...  \n",
       "..                                                 ...  \n",
       "970  --==_exmh_2112058634p\\n content-type: text/pla...  \n",
       "971  \\n <html>\\n <head>\\n \\t<title>cnet shopper new...  \n",
       "972  <html>\\n \\n <head>\\n <meta http-equiv=\"content...  \n",
       "973  --==_exmh_-1577134449p\\n content-type: text/pl...  \n",
       "974  rohit khare wrote:\\n > yes, on a mailing list ...  \n",
       "975  our delightful garden ornaments combine the fi...  \n",
       "976  sounds like the \"brain fingerprinting\" touted ...  \n",
       "977  \\n <html>\\n <head>\\n \\n </head>\\n <body bgcolo...  \n",
       "978  <hr>\\n <html>\\n <div bgcolor=3d\"#ffffcc\">\\n \\n...  \n",
       "979  url: http://boingboing.net/#85486452\\n date: n...  \n",
       "980  \\n --shrvab52m6c8blb9\\n content-type: text/pla...  \n",
       "981  url: http://www.newsisfree.com/click/-4,872399...  \n",
       "982  on fri, aug 16, 2002 at 01:59:55pm +0100, padr...  \n",
       "983  url: http://scriptingnews.userland.com/backiss...  \n",
       "984  \"adam l. beberg\" wrote:\\n > \\n > so, who has d...  \n",
       "985  \\n how is this any different from attaching an...  \n",
       "986  on 9 aug 2002, gary lawrence murphy wrote:\\n \\...  \n",
       "987  url: http://www.newsisfree.com/click/-4,872400...  \n",
       "988  near the end of his *memoirs of extraordinary ...  \n",
       "989  \\n > chuck murcko wrote:\\n >\\n > > heh, ten ye...  \n",
       "990  <html><body>\\n <div align=3d\"center\">\\n   <cen...  \n",
       "991  on wed, feb 06, 2002 at 04:30:18pm +0200, harr...  \n",
       "992  url: http://www.newsisfree.com/click/-0,861367...  \n",
       "993  <html>\\n <head>\\n         <title>worldcom woes...  \n",
       "994  \\n forwarded-by: rob windsor <windsor@warthog....  \n",
       "995  once upon a time, brian wrote :\\n \\n > \\n >   ...  \n",
       "996  \\n --]> a green once said that if the spotted ...  \n",
       "997  on fri, 23 aug 2002, robert harley wrote:\\n \\n...  \n",
       "998  jpl suggested:\\n >  recursion is only truely u...  \n",
       "999  everybody gets paid.  no recruiting required.\\...  \n",
       "\n",
       "[1000 rows x 3 columns]"
      ]
     },
     "execution_count": 29,
     "metadata": {},
     "output_type": "execute_result"
    }
   ],
   "source": [
    "evaluation"
   ]
  },
  {
   "cell_type": "code",
   "execution_count": 331,
   "metadata": {
    "deletable": false,
    "nbgrader": {
     "cell_type": "code",
     "checksum": "7a2abb910f7ef354666d7e39daed7454",
     "grade": false,
     "grade_id": "q10-answer",
     "locked": false,
     "schema_version": 2,
     "solution": true
    }
   },
   "outputs": [],
   "source": [
    "# CHANGE ME (Currently making random predictions)\n",
    "\n",
    "Phi_test_eval = words_in_texts(better_word, evaluation['email'])\n",
    "evaluation_predictions = lr2.predict(Phi_test_eval)\n"
   ]
  },
  {
   "cell_type": "code",
   "execution_count": 332,
   "metadata": {
    "deletable": false,
    "editable": false,
    "nbgrader": {
     "cell_type": "code",
     "checksum": "5005948ef8f43a714dad71e48c71bb8a",
     "grade": true,
     "grade_id": "q10-tests",
     "locked": true,
     "points": 1,
     "schema_version": 2,
     "solution": false
    }
   },
   "outputs": [],
   "source": [
    "# must be ndarray of predictions\n",
    "assert isinstance(evaluation_predictions, np.ndarray) \n",
    "\n",
    "# must be binary labels (0 or 1) and not probabilities\n",
    "assert np.all((evaluation_predictions == 0) | (evaluation_predictions == 1))\n",
    "\n",
    "# must be the right number of predictions\n",
    "assert evaluation_predictions.shape == (1000, )"
   ]
  },
  {
   "cell_type": "code",
   "execution_count": 333,
   "metadata": {
    "deletable": false,
    "editable": false,
    "nbgrader": {
     "cell_type": "code",
     "checksum": "9dfffe9e2d4d757b84e8d3601b5e5dd9",
     "grade": true,
     "grade_id": "q10-hidden-tests",
     "locked": true,
     "points": 4,
     "schema_version": 2,
     "solution": false
    }
   },
   "outputs": [],
   "source": [
    "# Please do not modify this cell"
   ]
  },
  {
   "cell_type": "markdown",
   "metadata": {
    "deletable": false,
    "editable": false,
    "nbgrader": {
     "cell_type": "markdown",
     "checksum": "f08c87d79dbcfed4134d2f56fda5b1fa",
     "grade": false,
     "grade_id": "cell-d15e30e2a961277d",
     "locked": true,
     "schema_version": 2,
     "solution": false
    }
   },
   "source": [
    "The following saves a file to submit to Kaggle."
   ]
  },
  {
   "cell_type": "code",
   "execution_count": 334,
   "metadata": {},
   "outputs": [
    {
     "name": "stdout",
     "output_type": "stream",
     "text": [
      "Created a CSV file: submission_2018-04-30T23:35:40.csv.\n",
      "You may now upload this CSV file to Kaggle for scoring.\n"
     ]
    }
   ],
   "source": [
    "from datetime import datetime\n",
    "\n",
    "# Assuming that your predictions on the evaluation set are stored in a 1-dimensional array called\n",
    "# evaluation_predictions. Feel free to modify this cell as long you create a CSV in the right format.\n",
    "\n",
    "# must be ndarray of predictions\n",
    "assert isinstance(evaluation_predictions, np.ndarray) \n",
    "\n",
    "# must be binary labels (0 or 1) and not probabilities\n",
    "assert np.all((evaluation_predictions == 0) | (evaluation_predictions == 1))\n",
    "\n",
    "# must be the right number of predictions\n",
    "assert evaluation_predictions.shape == (1000, )\n",
    "\n",
    "# Construct and save the submission:\n",
    "submission_df = pd.DataFrame({\n",
    "    \"Id\": evaluation['id'], \n",
    "    \"Class\": evaluation_predictions,\n",
    "}, columns=['Id', 'Class'])\n",
    "timestamp = datetime.isoformat(datetime.now()).split(\".\")[0]\n",
    "submission_df.to_csv(\"submission_{}.csv\".format(timestamp), index=False)\n",
    "\n",
    "print('Created a CSV file: {}.'.format(\"submission_{}.csv\".format(timestamp)))\n",
    "print('You may now upload this CSV file to Kaggle for scoring.')"
   ]
  },
  {
   "cell_type": "code",
   "execution_count": null,
   "metadata": {},
   "outputs": [],
   "source": []
  },
  {
   "cell_type": "code",
   "execution_count": null,
   "metadata": {},
   "outputs": [],
   "source": []
  }
 ],
 "metadata": {
  "kernelspec": {
   "display_name": "Python 3",
   "language": "python",
   "name": "python3"
  },
  "language_info": {
   "codemirror_mode": {
    "name": "ipython",
    "version": 3
   },
   "file_extension": ".py",
   "mimetype": "text/x-python",
   "name": "python",
   "nbconvert_exporter": "python",
   "pygments_lexer": "ipython3",
   "version": "3.6.4"
  }
 },
 "nbformat": 4,
 "nbformat_minor": 2
}
